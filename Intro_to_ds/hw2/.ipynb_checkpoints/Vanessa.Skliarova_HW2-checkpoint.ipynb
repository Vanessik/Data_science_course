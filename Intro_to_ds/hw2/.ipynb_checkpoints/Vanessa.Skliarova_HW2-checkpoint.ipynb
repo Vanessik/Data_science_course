{
 "cells": [
  {
   "cell_type": "markdown",
   "metadata": {},
   "source": [
    "## Skoltech\n",
    "## Intro to data science, fall 2020\n",
    "## Assigment 2\n",
    "\n",
    "### Goals\n",
    "- Make exploratory data analysis\n",
    "- Apply feature engineering and feature selection\n",
    "- Try to solve classification task and use classification performance metrics\n",
    "- Get the taste of gradient boosting approach\n",
    "\n",
    "\n",
    "# Submiting the answers\n",
    "\n",
    "Google form to submit your answers: https://docs.google.com/forms/d/1zwUO1KZNDTZYuD12dyMO3CaErGHnZuHx1Mdbo-c11ME/\n",
    "\n",
    "Use your **skoltech email**. For Name, Surname use **exactly the same spelling** as in canvas system.\n",
    "\n",
    "---\n",
    "\n",
    "If your answer is a ``float number``, then it must be provided with **3 decimals after the floating point**, e.g. 1.234\n",
    "\n",
    "---\n",
    "\n",
    "If your answer is a ``list of float or integer numbers or str``, then they should be reported in descending (alphabetical) order,  divided by a comma, e.g.:\n",
    "\n",
    "10.453,9.112,5.001,5.000\n",
    "\n",
    "---\n",
    "\n",
    "The last part (Q5) do not have corresponding fields in the google form. It is **not optional** and it will be graded manually from your .ipynb file.\n",
    "\n",
    "---\n",
    "\n",
    "If you have any questions regarding this Home Assignment, ask them piazza topic: https://piazza.com/class/kespugtqfrn12g?cid=29"
   ]
  },
  {
   "cell_type": "markdown",
   "metadata": {},
   "source": [
    "#### Import basic libraries"
   ]
  },
  {
   "cell_type": "code",
   "execution_count": 1,
   "metadata": {
    "id": "IxQ5oO5xbtyW"
   },
   "outputs": [],
   "source": [
    "import pandas as pd\n",
    "import numpy as np\n",
    "import matplotlib.pyplot as plt\n",
    "%matplotlib inline\n",
    "import seaborn as sns\n",
    "sns.set()"
   ]
  },
  {
   "cell_type": "markdown",
   "metadata": {},
   "source": [
    "### Dataset\n",
    "For the task we'll use kickstarter dataset. Kickstarter is the crowdfounding platform, where people can announce their project with financial goals and other can support the projects by paying the money (\"pledging\"). The goal will be to predict if the project will be successfull, i.e. would it achieve the funding goal. Let's take a brief look to the dataset."
   ]
  },
  {
   "cell_type": "code",
   "execution_count": 2,
   "metadata": {
    "id": "mBWPB2ajcTnj"
   },
   "outputs": [],
   "source": [
    "df = pd.read_csv('ks-projects-201801.csv')\n",
    "df.set_index(\"ID\", inplace=True)"
   ]
  },
  {
   "cell_type": "code",
   "execution_count": 3,
   "metadata": {
    "colab": {
     "base_uri": "https://localhost:8080/",
     "height": 431
    },
    "id": "bA52wUNelGmZ",
    "outputId": "2258994a-956f-47fd-e295-7ecda8077687"
   },
   "outputs": [
    {
     "data": {
      "text/html": [
       "<div>\n",
       "<style scoped>\n",
       "    .dataframe tbody tr th:only-of-type {\n",
       "        vertical-align: middle;\n",
       "    }\n",
       "\n",
       "    .dataframe tbody tr th {\n",
       "        vertical-align: top;\n",
       "    }\n",
       "\n",
       "    .dataframe thead th {\n",
       "        text-align: right;\n",
       "    }\n",
       "</style>\n",
       "<table border=\"1\" class=\"dataframe\">\n",
       "  <thead>\n",
       "    <tr style=\"text-align: right;\">\n",
       "      <th></th>\n",
       "      <th>name</th>\n",
       "      <th>category</th>\n",
       "      <th>main_category</th>\n",
       "      <th>currency</th>\n",
       "      <th>deadline</th>\n",
       "      <th>goal</th>\n",
       "      <th>launched</th>\n",
       "      <th>pledged</th>\n",
       "      <th>state</th>\n",
       "      <th>backers</th>\n",
       "      <th>country</th>\n",
       "      <th>usd pledged</th>\n",
       "      <th>usd_pledged_real</th>\n",
       "      <th>usd_goal_real</th>\n",
       "    </tr>\n",
       "    <tr>\n",
       "      <th>ID</th>\n",
       "      <th></th>\n",
       "      <th></th>\n",
       "      <th></th>\n",
       "      <th></th>\n",
       "      <th></th>\n",
       "      <th></th>\n",
       "      <th></th>\n",
       "      <th></th>\n",
       "      <th></th>\n",
       "      <th></th>\n",
       "      <th></th>\n",
       "      <th></th>\n",
       "      <th></th>\n",
       "      <th></th>\n",
       "    </tr>\n",
       "  </thead>\n",
       "  <tbody>\n",
       "    <tr>\n",
       "      <th>591482354</th>\n",
       "      <td>Free Cisco CCNA Video Training</td>\n",
       "      <td>Webseries</td>\n",
       "      <td>Film &amp; Video</td>\n",
       "      <td>USD</td>\n",
       "      <td>2013-05-02</td>\n",
       "      <td>2500.0</td>\n",
       "      <td>2013-04-02 22:09:34</td>\n",
       "      <td>11547.99</td>\n",
       "      <td>successful</td>\n",
       "      <td>366</td>\n",
       "      <td>US</td>\n",
       "      <td>11547.99</td>\n",
       "      <td>11547.99</td>\n",
       "      <td>2500.00</td>\n",
       "    </tr>\n",
       "    <tr>\n",
       "      <th>1542696291</th>\n",
       "      <td>Microprocessor Driven TFT Universal Automotive...</td>\n",
       "      <td>Gadgets</td>\n",
       "      <td>Technology</td>\n",
       "      <td>AUD</td>\n",
       "      <td>2015-08-15</td>\n",
       "      <td>5000.0</td>\n",
       "      <td>2015-07-16 01:26:53</td>\n",
       "      <td>100.00</td>\n",
       "      <td>failed</td>\n",
       "      <td>1</td>\n",
       "      <td>AU</td>\n",
       "      <td>74.27</td>\n",
       "      <td>73.33</td>\n",
       "      <td>3666.50</td>\n",
       "    </tr>\n",
       "    <tr>\n",
       "      <th>146472135</th>\n",
       "      <td>AcedIT - STUDENT LIFE SORTED</td>\n",
       "      <td>Apps</td>\n",
       "      <td>Technology</td>\n",
       "      <td>GBP</td>\n",
       "      <td>2014-11-03</td>\n",
       "      <td>36000.0</td>\n",
       "      <td>2014-10-04 18:26:17</td>\n",
       "      <td>32.00</td>\n",
       "      <td>failed</td>\n",
       "      <td>3</td>\n",
       "      <td>GB</td>\n",
       "      <td>51.62</td>\n",
       "      <td>50.62</td>\n",
       "      <td>56950.31</td>\n",
       "    </tr>\n",
       "    <tr>\n",
       "      <th>698666401</th>\n",
       "      <td>Captain's Press, Making The Burgh Sexy!</td>\n",
       "      <td>Photography</td>\n",
       "      <td>Photography</td>\n",
       "      <td>USD</td>\n",
       "      <td>2010-07-30</td>\n",
       "      <td>2000.0</td>\n",
       "      <td>2010-06-15 07:35:08</td>\n",
       "      <td>0.00</td>\n",
       "      <td>failed</td>\n",
       "      <td>0</td>\n",
       "      <td>US</td>\n",
       "      <td>0.00</td>\n",
       "      <td>0.00</td>\n",
       "      <td>2000.00</td>\n",
       "    </tr>\n",
       "    <tr>\n",
       "      <th>558758883</th>\n",
       "      <td>Dream Song ~ PC &amp; Mac game. A quest for real t...</td>\n",
       "      <td>Video Games</td>\n",
       "      <td>Games</td>\n",
       "      <td>GBP</td>\n",
       "      <td>2014-03-31</td>\n",
       "      <td>69000.0</td>\n",
       "      <td>2014-03-01 17:26:05</td>\n",
       "      <td>3052.00</td>\n",
       "      <td>failed</td>\n",
       "      <td>74</td>\n",
       "      <td>GB</td>\n",
       "      <td>5091.55</td>\n",
       "      <td>5057.75</td>\n",
       "      <td>114346.32</td>\n",
       "    </tr>\n",
       "  </tbody>\n",
       "</table>\n",
       "</div>"
      ],
      "text/plain": [
       "                                                         name     category  \\\n",
       "ID                                                                           \n",
       "591482354                      Free Cisco CCNA Video Training    Webseries   \n",
       "1542696291  Microprocessor Driven TFT Universal Automotive...      Gadgets   \n",
       "146472135                        AcedIT - STUDENT LIFE SORTED         Apps   \n",
       "698666401             Captain's Press, Making The Burgh Sexy!  Photography   \n",
       "558758883   Dream Song ~ PC & Mac game. A quest for real t...  Video Games   \n",
       "\n",
       "           main_category currency    deadline     goal             launched  \\\n",
       "ID                                                                            \n",
       "591482354   Film & Video      USD  2013-05-02   2500.0  2013-04-02 22:09:34   \n",
       "1542696291    Technology      AUD  2015-08-15   5000.0  2015-07-16 01:26:53   \n",
       "146472135     Technology      GBP  2014-11-03  36000.0  2014-10-04 18:26:17   \n",
       "698666401    Photography      USD  2010-07-30   2000.0  2010-06-15 07:35:08   \n",
       "558758883          Games      GBP  2014-03-31  69000.0  2014-03-01 17:26:05   \n",
       "\n",
       "             pledged       state  backers country  usd pledged  \\\n",
       "ID                                                               \n",
       "591482354   11547.99  successful      366      US     11547.99   \n",
       "1542696291    100.00      failed        1      AU        74.27   \n",
       "146472135      32.00      failed        3      GB        51.62   \n",
       "698666401       0.00      failed        0      US         0.00   \n",
       "558758883    3052.00      failed       74      GB      5091.55   \n",
       "\n",
       "            usd_pledged_real  usd_goal_real  \n",
       "ID                                           \n",
       "591482354           11547.99        2500.00  \n",
       "1542696291             73.33        3666.50  \n",
       "146472135              50.62       56950.31  \n",
       "698666401               0.00        2000.00  \n",
       "558758883            5057.75      114346.32  "
      ]
     },
     "execution_count": 3,
     "metadata": {},
     "output_type": "execute_result"
    }
   ],
   "source": [
    "df.sample(5)"
   ]
  },
  {
   "cell_type": "code",
   "execution_count": 4,
   "metadata": {},
   "outputs": [
    {
     "data": {
      "text/plain": [
       "(378661, 14)"
      ]
     },
     "execution_count": 4,
     "metadata": {},
     "output_type": "execute_result"
    }
   ],
   "source": [
    "df.shape"
   ]
  },
  {
   "cell_type": "code",
   "execution_count": 5,
   "metadata": {},
   "outputs": [
    {
     "data": {
      "text/plain": [
       "failed        197719\n",
       "successful    133956\n",
       "canceled       38779\n",
       "undefined       3562\n",
       "live            2799\n",
       "suspended       1846\n",
       "Name: state, dtype: int64"
      ]
     },
     "execution_count": 5,
     "metadata": {},
     "output_type": "execute_result"
    }
   ],
   "source": [
    "df.state.value_counts()"
   ]
  },
  {
   "cell_type": "markdown",
   "metadata": {},
   "source": [
    "# Section 1. Dataset acquaintance"
   ]
  },
  {
   "cell_type": "markdown",
   "metadata": {},
   "source": [
    "-----"
   ]
  },
  {
   "cell_type": "markdown",
   "metadata": {},
   "source": [
    "### Q1.1\n",
    "\n",
    "#### How many NaN values are there in the dataset?"
   ]
  },
  {
   "cell_type": "code",
   "execution_count": 6,
   "metadata": {},
   "outputs": [
    {
     "name": "stdout",
     "output_type": "stream",
     "text": [
      "Q1.1 3801\n"
     ]
    }
   ],
   "source": [
    "print('Q1.1', df.isna().sum().values.sum())"
   ]
  },
  {
   "cell_type": "markdown",
   "metadata": {},
   "source": [
    "Let us simplify the task a little bit: we are aiming to predict either project fails or not.\n",
    "Thus 'success' projects will be encoded as 1, with state ['failed', 'canceled'] as 0 and we remove the rows with any other state.\n",
    "\n",
    "### Q1.2 \n",
    "#### How many '1' values are in resulting dataset (in state column)?"
   ]
  },
  {
   "cell_type": "code",
   "execution_count": 7,
   "metadata": {},
   "outputs": [],
   "source": [
    "state_success = ['successful']\n",
    "state_failed = ['failed', 'canceled']"
   ]
  },
  {
   "cell_type": "code",
   "execution_count": 8,
   "metadata": {},
   "outputs": [],
   "source": [
    "cond1 = df.state == state_success[0]\n",
    "cond2 = df.state == state_failed[0]\n",
    "cond3 =  df.state == state_failed[1]\n",
    "cond = cond1 | cond2 | cond3"
   ]
  },
  {
   "cell_type": "code",
   "execution_count": 9,
   "metadata": {},
   "outputs": [
    {
     "data": {
      "text/plain": [
       "failed        197719\n",
       "successful    133956\n",
       "canceled       38779\n",
       "undefined       3562\n",
       "live            2799\n",
       "suspended       1846\n",
       "Name: state, dtype: int64"
      ]
     },
     "execution_count": 9,
     "metadata": {},
     "output_type": "execute_result"
    }
   ],
   "source": [
    "df['state'].value_counts()"
   ]
  },
  {
   "cell_type": "code",
   "execution_count": 10,
   "metadata": {},
   "outputs": [],
   "source": [
    "# mask suitable rows\n",
    "df.where(cond, inplace=True)\n",
    "# drop nan rows\n",
    "df.dropna(axis=0, how='all', inplace=True)"
   ]
  },
  {
   "cell_type": "code",
   "execution_count": 11,
   "metadata": {},
   "outputs": [
    {
     "data": {
      "text/html": [
       "<div>\n",
       "<style scoped>\n",
       "    .dataframe tbody tr th:only-of-type {\n",
       "        vertical-align: middle;\n",
       "    }\n",
       "\n",
       "    .dataframe tbody tr th {\n",
       "        vertical-align: top;\n",
       "    }\n",
       "\n",
       "    .dataframe thead th {\n",
       "        text-align: right;\n",
       "    }\n",
       "</style>\n",
       "<table border=\"1\" class=\"dataframe\">\n",
       "  <thead>\n",
       "    <tr style=\"text-align: right;\">\n",
       "      <th></th>\n",
       "      <th>name</th>\n",
       "      <th>category</th>\n",
       "      <th>main_category</th>\n",
       "      <th>currency</th>\n",
       "      <th>deadline</th>\n",
       "      <th>goal</th>\n",
       "      <th>launched</th>\n",
       "      <th>pledged</th>\n",
       "      <th>state</th>\n",
       "      <th>backers</th>\n",
       "      <th>country</th>\n",
       "      <th>usd pledged</th>\n",
       "      <th>usd_pledged_real</th>\n",
       "      <th>usd_goal_real</th>\n",
       "    </tr>\n",
       "    <tr>\n",
       "      <th>ID</th>\n",
       "      <th></th>\n",
       "      <th></th>\n",
       "      <th></th>\n",
       "      <th></th>\n",
       "      <th></th>\n",
       "      <th></th>\n",
       "      <th></th>\n",
       "      <th></th>\n",
       "      <th></th>\n",
       "      <th></th>\n",
       "      <th></th>\n",
       "      <th></th>\n",
       "      <th></th>\n",
       "      <th></th>\n",
       "    </tr>\n",
       "  </thead>\n",
       "  <tbody>\n",
       "    <tr>\n",
       "      <th>1000002330</th>\n",
       "      <td>The Songs of Adelaide &amp; Abullah</td>\n",
       "      <td>Poetry</td>\n",
       "      <td>Publishing</td>\n",
       "      <td>GBP</td>\n",
       "      <td>2015-10-09</td>\n",
       "      <td>1000.0</td>\n",
       "      <td>2015-08-11 12:12:28</td>\n",
       "      <td>0.0</td>\n",
       "      <td>failed</td>\n",
       "      <td>0.0</td>\n",
       "      <td>GB</td>\n",
       "      <td>0.0</td>\n",
       "      <td>0.0</td>\n",
       "      <td>1533.95</td>\n",
       "    </tr>\n",
       "    <tr>\n",
       "      <th>1000003930</th>\n",
       "      <td>Greeting From Earth: ZGAC Arts Capsule For ET</td>\n",
       "      <td>Narrative Film</td>\n",
       "      <td>Film &amp; Video</td>\n",
       "      <td>USD</td>\n",
       "      <td>2017-11-01</td>\n",
       "      <td>30000.0</td>\n",
       "      <td>2017-09-02 04:43:57</td>\n",
       "      <td>2421.0</td>\n",
       "      <td>failed</td>\n",
       "      <td>15.0</td>\n",
       "      <td>US</td>\n",
       "      <td>100.0</td>\n",
       "      <td>2421.0</td>\n",
       "      <td>30000.00</td>\n",
       "    </tr>\n",
       "    <tr>\n",
       "      <th>1000004038</th>\n",
       "      <td>Where is Hank?</td>\n",
       "      <td>Narrative Film</td>\n",
       "      <td>Film &amp; Video</td>\n",
       "      <td>USD</td>\n",
       "      <td>2013-02-26</td>\n",
       "      <td>45000.0</td>\n",
       "      <td>2013-01-12 00:20:50</td>\n",
       "      <td>220.0</td>\n",
       "      <td>failed</td>\n",
       "      <td>3.0</td>\n",
       "      <td>US</td>\n",
       "      <td>220.0</td>\n",
       "      <td>220.0</td>\n",
       "      <td>45000.00</td>\n",
       "    </tr>\n",
       "    <tr>\n",
       "      <th>1000007540</th>\n",
       "      <td>ToshiCapital Rekordz Needs Help to Complete Album</td>\n",
       "      <td>Music</td>\n",
       "      <td>Music</td>\n",
       "      <td>USD</td>\n",
       "      <td>2012-04-16</td>\n",
       "      <td>5000.0</td>\n",
       "      <td>2012-03-17 03:24:11</td>\n",
       "      <td>1.0</td>\n",
       "      <td>failed</td>\n",
       "      <td>1.0</td>\n",
       "      <td>US</td>\n",
       "      <td>1.0</td>\n",
       "      <td>1.0</td>\n",
       "      <td>5000.00</td>\n",
       "    </tr>\n",
       "    <tr>\n",
       "      <th>1000011046</th>\n",
       "      <td>Community Film Project: The Art of Neighborhoo...</td>\n",
       "      <td>Film &amp; Video</td>\n",
       "      <td>Film &amp; Video</td>\n",
       "      <td>USD</td>\n",
       "      <td>2015-08-29</td>\n",
       "      <td>19500.0</td>\n",
       "      <td>2015-07-04 08:35:03</td>\n",
       "      <td>1283.0</td>\n",
       "      <td>canceled</td>\n",
       "      <td>14.0</td>\n",
       "      <td>US</td>\n",
       "      <td>1283.0</td>\n",
       "      <td>1283.0</td>\n",
       "      <td>19500.00</td>\n",
       "    </tr>\n",
       "    <tr>\n",
       "      <th>...</th>\n",
       "      <td>...</td>\n",
       "      <td>...</td>\n",
       "      <td>...</td>\n",
       "      <td>...</td>\n",
       "      <td>...</td>\n",
       "      <td>...</td>\n",
       "      <td>...</td>\n",
       "      <td>...</td>\n",
       "      <td>...</td>\n",
       "      <td>...</td>\n",
       "      <td>...</td>\n",
       "      <td>...</td>\n",
       "      <td>...</td>\n",
       "      <td>...</td>\n",
       "    </tr>\n",
       "    <tr>\n",
       "      <th>999976400</th>\n",
       "      <td>ChknTruk Nationwide Charity Drive 2014 (Canceled)</td>\n",
       "      <td>Documentary</td>\n",
       "      <td>Film &amp; Video</td>\n",
       "      <td>USD</td>\n",
       "      <td>2014-10-17</td>\n",
       "      <td>50000.0</td>\n",
       "      <td>2014-09-17 02:35:30</td>\n",
       "      <td>25.0</td>\n",
       "      <td>canceled</td>\n",
       "      <td>1.0</td>\n",
       "      <td>US</td>\n",
       "      <td>25.0</td>\n",
       "      <td>25.0</td>\n",
       "      <td>50000.00</td>\n",
       "    </tr>\n",
       "    <tr>\n",
       "      <th>999977640</th>\n",
       "      <td>The Tribe</td>\n",
       "      <td>Narrative Film</td>\n",
       "      <td>Film &amp; Video</td>\n",
       "      <td>USD</td>\n",
       "      <td>2011-07-19</td>\n",
       "      <td>1500.0</td>\n",
       "      <td>2011-06-22 03:35:14</td>\n",
       "      <td>155.0</td>\n",
       "      <td>failed</td>\n",
       "      <td>5.0</td>\n",
       "      <td>US</td>\n",
       "      <td>155.0</td>\n",
       "      <td>155.0</td>\n",
       "      <td>1500.00</td>\n",
       "    </tr>\n",
       "    <tr>\n",
       "      <th>999986353</th>\n",
       "      <td>Walls of Remedy- New lesbian Romantic Comedy f...</td>\n",
       "      <td>Narrative Film</td>\n",
       "      <td>Film &amp; Video</td>\n",
       "      <td>USD</td>\n",
       "      <td>2010-08-16</td>\n",
       "      <td>15000.0</td>\n",
       "      <td>2010-07-01 19:40:30</td>\n",
       "      <td>20.0</td>\n",
       "      <td>failed</td>\n",
       "      <td>1.0</td>\n",
       "      <td>US</td>\n",
       "      <td>20.0</td>\n",
       "      <td>20.0</td>\n",
       "      <td>15000.00</td>\n",
       "    </tr>\n",
       "    <tr>\n",
       "      <th>999987933</th>\n",
       "      <td>BioDefense Education Kit</td>\n",
       "      <td>Technology</td>\n",
       "      <td>Technology</td>\n",
       "      <td>USD</td>\n",
       "      <td>2016-02-13</td>\n",
       "      <td>15000.0</td>\n",
       "      <td>2016-01-13 18:13:53</td>\n",
       "      <td>200.0</td>\n",
       "      <td>failed</td>\n",
       "      <td>6.0</td>\n",
       "      <td>US</td>\n",
       "      <td>200.0</td>\n",
       "      <td>200.0</td>\n",
       "      <td>15000.00</td>\n",
       "    </tr>\n",
       "    <tr>\n",
       "      <th>999988282</th>\n",
       "      <td>Nou Renmen Ayiti!  We Love Haiti!</td>\n",
       "      <td>Performance Art</td>\n",
       "      <td>Art</td>\n",
       "      <td>USD</td>\n",
       "      <td>2011-08-16</td>\n",
       "      <td>2000.0</td>\n",
       "      <td>2011-07-19 09:07:47</td>\n",
       "      <td>524.0</td>\n",
       "      <td>failed</td>\n",
       "      <td>17.0</td>\n",
       "      <td>US</td>\n",
       "      <td>524.0</td>\n",
       "      <td>524.0</td>\n",
       "      <td>2000.00</td>\n",
       "    </tr>\n",
       "  </tbody>\n",
       "</table>\n",
       "<p>370454 rows × 14 columns</p>\n",
       "</div>"
      ],
      "text/plain": [
       "                                                         name  \\\n",
       "ID                                                              \n",
       "1000002330                    The Songs of Adelaide & Abullah   \n",
       "1000003930      Greeting From Earth: ZGAC Arts Capsule For ET   \n",
       "1000004038                                     Where is Hank?   \n",
       "1000007540  ToshiCapital Rekordz Needs Help to Complete Album   \n",
       "1000011046  Community Film Project: The Art of Neighborhoo...   \n",
       "...                                                       ...   \n",
       "999976400   ChknTruk Nationwide Charity Drive 2014 (Canceled)   \n",
       "999977640                                           The Tribe   \n",
       "999986353   Walls of Remedy- New lesbian Romantic Comedy f...   \n",
       "999987933                            BioDefense Education Kit   \n",
       "999988282                   Nou Renmen Ayiti!  We Love Haiti!   \n",
       "\n",
       "                   category main_category currency    deadline     goal  \\\n",
       "ID                                                                        \n",
       "1000002330           Poetry    Publishing      GBP  2015-10-09   1000.0   \n",
       "1000003930   Narrative Film  Film & Video      USD  2017-11-01  30000.0   \n",
       "1000004038   Narrative Film  Film & Video      USD  2013-02-26  45000.0   \n",
       "1000007540            Music         Music      USD  2012-04-16   5000.0   \n",
       "1000011046     Film & Video  Film & Video      USD  2015-08-29  19500.0   \n",
       "...                     ...           ...      ...         ...      ...   \n",
       "999976400       Documentary  Film & Video      USD  2014-10-17  50000.0   \n",
       "999977640    Narrative Film  Film & Video      USD  2011-07-19   1500.0   \n",
       "999986353    Narrative Film  Film & Video      USD  2010-08-16  15000.0   \n",
       "999987933        Technology    Technology      USD  2016-02-13  15000.0   \n",
       "999988282   Performance Art           Art      USD  2011-08-16   2000.0   \n",
       "\n",
       "                       launched  pledged     state  backers country  \\\n",
       "ID                                                                    \n",
       "1000002330  2015-08-11 12:12:28      0.0    failed      0.0      GB   \n",
       "1000003930  2017-09-02 04:43:57   2421.0    failed     15.0      US   \n",
       "1000004038  2013-01-12 00:20:50    220.0    failed      3.0      US   \n",
       "1000007540  2012-03-17 03:24:11      1.0    failed      1.0      US   \n",
       "1000011046  2015-07-04 08:35:03   1283.0  canceled     14.0      US   \n",
       "...                         ...      ...       ...      ...     ...   \n",
       "999976400   2014-09-17 02:35:30     25.0  canceled      1.0      US   \n",
       "999977640   2011-06-22 03:35:14    155.0    failed      5.0      US   \n",
       "999986353   2010-07-01 19:40:30     20.0    failed      1.0      US   \n",
       "999987933   2016-01-13 18:13:53    200.0    failed      6.0      US   \n",
       "999988282   2011-07-19 09:07:47    524.0    failed     17.0      US   \n",
       "\n",
       "            usd pledged  usd_pledged_real  usd_goal_real  \n",
       "ID                                                        \n",
       "1000002330          0.0               0.0        1533.95  \n",
       "1000003930        100.0            2421.0       30000.00  \n",
       "1000004038        220.0             220.0       45000.00  \n",
       "1000007540          1.0               1.0        5000.00  \n",
       "1000011046       1283.0            1283.0       19500.00  \n",
       "...                 ...               ...            ...  \n",
       "999976400          25.0              25.0       50000.00  \n",
       "999977640         155.0             155.0        1500.00  \n",
       "999986353          20.0              20.0       15000.00  \n",
       "999987933         200.0             200.0       15000.00  \n",
       "999988282         524.0             524.0        2000.00  \n",
       "\n",
       "[370454 rows x 14 columns]"
      ]
     },
     "execution_count": 11,
     "metadata": {},
     "output_type": "execute_result"
    }
   ],
   "source": [
    "df"
   ]
  },
  {
   "cell_type": "code",
   "execution_count": 12,
   "metadata": {},
   "outputs": [],
   "source": [
    "maping= {'successful': 1, \n",
    "            'failed' : 0, \n",
    "         'canceled' : 0}\n",
    "df['state'] = df.state.map(maping)"
   ]
  },
  {
   "cell_type": "code",
   "execution_count": 13,
   "metadata": {},
   "outputs": [
    {
     "name": "stdout",
     "output_type": "stream",
     "text": [
      "Q1.2 133956\n"
     ]
    }
   ],
   "source": [
    "print('Q1.2', df.state.value_counts().values[1])"
   ]
  },
  {
   "cell_type": "markdown",
   "metadata": {},
   "source": [
    "----"
   ]
  },
  {
   "cell_type": "markdown",
   "metadata": {},
   "source": [
    "### Q1.3\n",
    "#### Whats is a name of a project with highest average pay check? Use column usd_pledged_real to judge."
   ]
  },
  {
   "cell_type": "code",
   "execution_count": 14,
   "metadata": {},
   "outputs": [
    {
     "name": "stdout",
     "output_type": "stream",
     "text": [
      "Q1.3 Pebble Time - Awesome Smartwatch, No Compromises\n"
     ]
    }
   ],
   "source": [
    "print('Q1.3', df[df.usd_pledged_real == df.usd_pledged_real.max()]['name'].values[0])"
   ]
  },
  {
   "cell_type": "markdown",
   "metadata": {},
   "source": [
    "-----"
   ]
  },
  {
   "cell_type": "markdown",
   "metadata": {},
   "source": [
    "-----"
   ]
  },
  {
   "cell_type": "markdown",
   "metadata": {},
   "source": [
    "### Q1.4\n",
    "#### What is the most successful main category (in terms of success percentage)?"
   ]
  },
  {
   "cell_type": "code",
   "execution_count": 15,
   "metadata": {},
   "outputs": [
    {
     "name": "stdout",
     "output_type": "stream",
     "text": [
      "Q1.4 Dance\n"
     ]
    }
   ],
   "source": [
    "print('Q1.4', (df.groupby('main_category')['state'].sum()/df.groupby('main_category')['state'].count()).sort_values().index[-1])"
   ]
  },
  {
   "cell_type": "markdown",
   "metadata": {},
   "source": [
    "-----"
   ]
  },
  {
   "cell_type": "markdown",
   "metadata": {},
   "source": [
    "-----"
   ]
  },
  {
   "cell_type": "markdown",
   "metadata": {
    "jupyter": {
     "outputs_hidden": true
    }
   },
   "source": [
    "### Q1.5\n",
    "#### Define the category with highest goal per project. How many projects belong to it?  (note: we use category here, not main_category)"
   ]
  },
  {
   "cell_type": "code",
   "execution_count": 16,
   "metadata": {},
   "outputs": [
    {
     "data": {
      "text/plain": [
       "'Movie Theaters'"
      ]
     },
     "execution_count": 16,
     "metadata": {},
     "output_type": "execute_result"
    }
   ],
   "source": [
    "(df.groupby(['category'])['goal'].sum()/df.groupby(['category'])['goal'].count()).sort_values().index[-1]"
   ]
  },
  {
   "cell_type": "code",
   "execution_count": 17,
   "metadata": {},
   "outputs": [
    {
     "name": "stdout",
     "output_type": "stream",
     "text": [
      "Q1.5 227\n"
     ]
    }
   ],
   "source": [
    "print('Q1.5',df[df['category']=='Movie Theaters']['name'].nunique())"
   ]
  },
  {
   "cell_type": "markdown",
   "metadata": {},
   "source": [
    "-----"
   ]
  },
  {
   "cell_type": "markdown",
   "metadata": {},
   "source": [
    "### Q1.6\n",
    "#### What is the category with biggest total pledge? Use 'usd_pledged_real' to judge."
   ]
  },
  {
   "cell_type": "code",
   "execution_count": 18,
   "metadata": {},
   "outputs": [
    {
     "name": "stdout",
     "output_type": "stream",
     "text": [
      "Q1.6 Product Design\n"
     ]
    }
   ],
   "source": [
    "print('Q1.6', df[df.usd_pledged_real == df.usd_pledged_real.max()]['category'].values[0])"
   ]
  },
  {
   "cell_type": "code",
   "execution_count": 19,
   "metadata": {},
   "outputs": [
    {
     "data": {
      "text/html": [
       "<div>\n",
       "<style scoped>\n",
       "    .dataframe tbody tr th:only-of-type {\n",
       "        vertical-align: middle;\n",
       "    }\n",
       "\n",
       "    .dataframe tbody tr th {\n",
       "        vertical-align: top;\n",
       "    }\n",
       "\n",
       "    .dataframe thead th {\n",
       "        text-align: right;\n",
       "    }\n",
       "</style>\n",
       "<table border=\"1\" class=\"dataframe\">\n",
       "  <thead>\n",
       "    <tr style=\"text-align: right;\">\n",
       "      <th></th>\n",
       "      <th>name</th>\n",
       "      <th>category</th>\n",
       "      <th>main_category</th>\n",
       "      <th>currency</th>\n",
       "      <th>deadline</th>\n",
       "      <th>goal</th>\n",
       "      <th>launched</th>\n",
       "      <th>pledged</th>\n",
       "      <th>state</th>\n",
       "      <th>backers</th>\n",
       "      <th>country</th>\n",
       "      <th>usd pledged</th>\n",
       "      <th>usd_pledged_real</th>\n",
       "      <th>usd_goal_real</th>\n",
       "    </tr>\n",
       "    <tr>\n",
       "      <th>ID</th>\n",
       "      <th></th>\n",
       "      <th></th>\n",
       "      <th></th>\n",
       "      <th></th>\n",
       "      <th></th>\n",
       "      <th></th>\n",
       "      <th></th>\n",
       "      <th></th>\n",
       "      <th></th>\n",
       "      <th></th>\n",
       "      <th></th>\n",
       "      <th></th>\n",
       "      <th></th>\n",
       "      <th></th>\n",
       "    </tr>\n",
       "  </thead>\n",
       "  <tbody>\n",
       "    <tr>\n",
       "      <th>1000002330</th>\n",
       "      <td>The Songs of Adelaide &amp; Abullah</td>\n",
       "      <td>Poetry</td>\n",
       "      <td>Publishing</td>\n",
       "      <td>GBP</td>\n",
       "      <td>2015-10-09</td>\n",
       "      <td>1000.0</td>\n",
       "      <td>2015-08-11 12:12:28</td>\n",
       "      <td>0.0</td>\n",
       "      <td>0</td>\n",
       "      <td>0.0</td>\n",
       "      <td>GB</td>\n",
       "      <td>0.0</td>\n",
       "      <td>0.0</td>\n",
       "      <td>1533.95</td>\n",
       "    </tr>\n",
       "    <tr>\n",
       "      <th>1000003930</th>\n",
       "      <td>Greeting From Earth: ZGAC Arts Capsule For ET</td>\n",
       "      <td>Narrative Film</td>\n",
       "      <td>Film &amp; Video</td>\n",
       "      <td>USD</td>\n",
       "      <td>2017-11-01</td>\n",
       "      <td>30000.0</td>\n",
       "      <td>2017-09-02 04:43:57</td>\n",
       "      <td>2421.0</td>\n",
       "      <td>0</td>\n",
       "      <td>15.0</td>\n",
       "      <td>US</td>\n",
       "      <td>100.0</td>\n",
       "      <td>2421.0</td>\n",
       "      <td>30000.00</td>\n",
       "    </tr>\n",
       "    <tr>\n",
       "      <th>1000004038</th>\n",
       "      <td>Where is Hank?</td>\n",
       "      <td>Narrative Film</td>\n",
       "      <td>Film &amp; Video</td>\n",
       "      <td>USD</td>\n",
       "      <td>2013-02-26</td>\n",
       "      <td>45000.0</td>\n",
       "      <td>2013-01-12 00:20:50</td>\n",
       "      <td>220.0</td>\n",
       "      <td>0</td>\n",
       "      <td>3.0</td>\n",
       "      <td>US</td>\n",
       "      <td>220.0</td>\n",
       "      <td>220.0</td>\n",
       "      <td>45000.00</td>\n",
       "    </tr>\n",
       "    <tr>\n",
       "      <th>1000007540</th>\n",
       "      <td>ToshiCapital Rekordz Needs Help to Complete Album</td>\n",
       "      <td>Music</td>\n",
       "      <td>Music</td>\n",
       "      <td>USD</td>\n",
       "      <td>2012-04-16</td>\n",
       "      <td>5000.0</td>\n",
       "      <td>2012-03-17 03:24:11</td>\n",
       "      <td>1.0</td>\n",
       "      <td>0</td>\n",
       "      <td>1.0</td>\n",
       "      <td>US</td>\n",
       "      <td>1.0</td>\n",
       "      <td>1.0</td>\n",
       "      <td>5000.00</td>\n",
       "    </tr>\n",
       "    <tr>\n",
       "      <th>1000011046</th>\n",
       "      <td>Community Film Project: The Art of Neighborhoo...</td>\n",
       "      <td>Film &amp; Video</td>\n",
       "      <td>Film &amp; Video</td>\n",
       "      <td>USD</td>\n",
       "      <td>2015-08-29</td>\n",
       "      <td>19500.0</td>\n",
       "      <td>2015-07-04 08:35:03</td>\n",
       "      <td>1283.0</td>\n",
       "      <td>0</td>\n",
       "      <td>14.0</td>\n",
       "      <td>US</td>\n",
       "      <td>1283.0</td>\n",
       "      <td>1283.0</td>\n",
       "      <td>19500.00</td>\n",
       "    </tr>\n",
       "    <tr>\n",
       "      <th>...</th>\n",
       "      <td>...</td>\n",
       "      <td>...</td>\n",
       "      <td>...</td>\n",
       "      <td>...</td>\n",
       "      <td>...</td>\n",
       "      <td>...</td>\n",
       "      <td>...</td>\n",
       "      <td>...</td>\n",
       "      <td>...</td>\n",
       "      <td>...</td>\n",
       "      <td>...</td>\n",
       "      <td>...</td>\n",
       "      <td>...</td>\n",
       "      <td>...</td>\n",
       "    </tr>\n",
       "    <tr>\n",
       "      <th>999976400</th>\n",
       "      <td>ChknTruk Nationwide Charity Drive 2014 (Canceled)</td>\n",
       "      <td>Documentary</td>\n",
       "      <td>Film &amp; Video</td>\n",
       "      <td>USD</td>\n",
       "      <td>2014-10-17</td>\n",
       "      <td>50000.0</td>\n",
       "      <td>2014-09-17 02:35:30</td>\n",
       "      <td>25.0</td>\n",
       "      <td>0</td>\n",
       "      <td>1.0</td>\n",
       "      <td>US</td>\n",
       "      <td>25.0</td>\n",
       "      <td>25.0</td>\n",
       "      <td>50000.00</td>\n",
       "    </tr>\n",
       "    <tr>\n",
       "      <th>999977640</th>\n",
       "      <td>The Tribe</td>\n",
       "      <td>Narrative Film</td>\n",
       "      <td>Film &amp; Video</td>\n",
       "      <td>USD</td>\n",
       "      <td>2011-07-19</td>\n",
       "      <td>1500.0</td>\n",
       "      <td>2011-06-22 03:35:14</td>\n",
       "      <td>155.0</td>\n",
       "      <td>0</td>\n",
       "      <td>5.0</td>\n",
       "      <td>US</td>\n",
       "      <td>155.0</td>\n",
       "      <td>155.0</td>\n",
       "      <td>1500.00</td>\n",
       "    </tr>\n",
       "    <tr>\n",
       "      <th>999986353</th>\n",
       "      <td>Walls of Remedy- New lesbian Romantic Comedy f...</td>\n",
       "      <td>Narrative Film</td>\n",
       "      <td>Film &amp; Video</td>\n",
       "      <td>USD</td>\n",
       "      <td>2010-08-16</td>\n",
       "      <td>15000.0</td>\n",
       "      <td>2010-07-01 19:40:30</td>\n",
       "      <td>20.0</td>\n",
       "      <td>0</td>\n",
       "      <td>1.0</td>\n",
       "      <td>US</td>\n",
       "      <td>20.0</td>\n",
       "      <td>20.0</td>\n",
       "      <td>15000.00</td>\n",
       "    </tr>\n",
       "    <tr>\n",
       "      <th>999987933</th>\n",
       "      <td>BioDefense Education Kit</td>\n",
       "      <td>Technology</td>\n",
       "      <td>Technology</td>\n",
       "      <td>USD</td>\n",
       "      <td>2016-02-13</td>\n",
       "      <td>15000.0</td>\n",
       "      <td>2016-01-13 18:13:53</td>\n",
       "      <td>200.0</td>\n",
       "      <td>0</td>\n",
       "      <td>6.0</td>\n",
       "      <td>US</td>\n",
       "      <td>200.0</td>\n",
       "      <td>200.0</td>\n",
       "      <td>15000.00</td>\n",
       "    </tr>\n",
       "    <tr>\n",
       "      <th>999988282</th>\n",
       "      <td>Nou Renmen Ayiti!  We Love Haiti!</td>\n",
       "      <td>Performance Art</td>\n",
       "      <td>Art</td>\n",
       "      <td>USD</td>\n",
       "      <td>2011-08-16</td>\n",
       "      <td>2000.0</td>\n",
       "      <td>2011-07-19 09:07:47</td>\n",
       "      <td>524.0</td>\n",
       "      <td>0</td>\n",
       "      <td>17.0</td>\n",
       "      <td>US</td>\n",
       "      <td>524.0</td>\n",
       "      <td>524.0</td>\n",
       "      <td>2000.00</td>\n",
       "    </tr>\n",
       "  </tbody>\n",
       "</table>\n",
       "<p>370454 rows × 14 columns</p>\n",
       "</div>"
      ],
      "text/plain": [
       "                                                         name  \\\n",
       "ID                                                              \n",
       "1000002330                    The Songs of Adelaide & Abullah   \n",
       "1000003930      Greeting From Earth: ZGAC Arts Capsule For ET   \n",
       "1000004038                                     Where is Hank?   \n",
       "1000007540  ToshiCapital Rekordz Needs Help to Complete Album   \n",
       "1000011046  Community Film Project: The Art of Neighborhoo...   \n",
       "...                                                       ...   \n",
       "999976400   ChknTruk Nationwide Charity Drive 2014 (Canceled)   \n",
       "999977640                                           The Tribe   \n",
       "999986353   Walls of Remedy- New lesbian Romantic Comedy f...   \n",
       "999987933                            BioDefense Education Kit   \n",
       "999988282                   Nou Renmen Ayiti!  We Love Haiti!   \n",
       "\n",
       "                   category main_category currency    deadline     goal  \\\n",
       "ID                                                                        \n",
       "1000002330           Poetry    Publishing      GBP  2015-10-09   1000.0   \n",
       "1000003930   Narrative Film  Film & Video      USD  2017-11-01  30000.0   \n",
       "1000004038   Narrative Film  Film & Video      USD  2013-02-26  45000.0   \n",
       "1000007540            Music         Music      USD  2012-04-16   5000.0   \n",
       "1000011046     Film & Video  Film & Video      USD  2015-08-29  19500.0   \n",
       "...                     ...           ...      ...         ...      ...   \n",
       "999976400       Documentary  Film & Video      USD  2014-10-17  50000.0   \n",
       "999977640    Narrative Film  Film & Video      USD  2011-07-19   1500.0   \n",
       "999986353    Narrative Film  Film & Video      USD  2010-08-16  15000.0   \n",
       "999987933        Technology    Technology      USD  2016-02-13  15000.0   \n",
       "999988282   Performance Art           Art      USD  2011-08-16   2000.0   \n",
       "\n",
       "                       launched  pledged  state  backers country  usd pledged  \\\n",
       "ID                                                                              \n",
       "1000002330  2015-08-11 12:12:28      0.0      0      0.0      GB          0.0   \n",
       "1000003930  2017-09-02 04:43:57   2421.0      0     15.0      US        100.0   \n",
       "1000004038  2013-01-12 00:20:50    220.0      0      3.0      US        220.0   \n",
       "1000007540  2012-03-17 03:24:11      1.0      0      1.0      US          1.0   \n",
       "1000011046  2015-07-04 08:35:03   1283.0      0     14.0      US       1283.0   \n",
       "...                         ...      ...    ...      ...     ...          ...   \n",
       "999976400   2014-09-17 02:35:30     25.0      0      1.0      US         25.0   \n",
       "999977640   2011-06-22 03:35:14    155.0      0      5.0      US        155.0   \n",
       "999986353   2010-07-01 19:40:30     20.0      0      1.0      US         20.0   \n",
       "999987933   2016-01-13 18:13:53    200.0      0      6.0      US        200.0   \n",
       "999988282   2011-07-19 09:07:47    524.0      0     17.0      US        524.0   \n",
       "\n",
       "            usd_pledged_real  usd_goal_real  \n",
       "ID                                           \n",
       "1000002330               0.0        1533.95  \n",
       "1000003930            2421.0       30000.00  \n",
       "1000004038             220.0       45000.00  \n",
       "1000007540               1.0        5000.00  \n",
       "1000011046            1283.0       19500.00  \n",
       "...                      ...            ...  \n",
       "999976400               25.0       50000.00  \n",
       "999977640              155.0        1500.00  \n",
       "999986353               20.0       15000.00  \n",
       "999987933              200.0       15000.00  \n",
       "999988282              524.0        2000.00  \n",
       "\n",
       "[370454 rows x 14 columns]"
      ]
     },
     "execution_count": 19,
     "metadata": {},
     "output_type": "execute_result"
    }
   ],
   "source": [
    "df"
   ]
  },
  {
   "cell_type": "markdown",
   "metadata": {},
   "source": [
    "------"
   ]
  },
  {
   "cell_type": "markdown",
   "metadata": {},
   "source": [
    "------"
   ]
  },
  {
   "cell_type": "markdown",
   "metadata": {},
   "source": [
    "As one can notice, there are both numerical and object-type data in our dataframe. \n",
    "\n",
    "We suggest you to split them to perform EDA separately. \n",
    "\n",
    "### Q1.7\n",
    "#### Split columns to 'numeric' (by data type) and object-type. How many 'object-type' features are there?"
   ]
  },
  {
   "cell_type": "code",
   "execution_count": 20,
   "metadata": {},
   "outputs": [
    {
     "name": "stdout",
     "output_type": "stream",
     "text": [
      "Q1.7 7\n"
     ]
    }
   ],
   "source": [
    "print('Q1.7', df.dtypes.value_counts()[0])"
   ]
  },
  {
   "cell_type": "code",
   "execution_count": 22,
   "metadata": {},
   "outputs": [
    {
     "data": {
      "text/plain": [
       "(['name',\n",
       "  'category',\n",
       "  'main_category',\n",
       "  'currency',\n",
       "  'deadline',\n",
       "  'launched',\n",
       "  'country'],\n",
       " ['goal',\n",
       "  'pledged',\n",
       "  'state',\n",
       "  'backers',\n",
       "  'usd pledged',\n",
       "  'usd_pledged_real',\n",
       "  'usd_goal_real'])"
      ]
     },
     "execution_count": 22,
     "metadata": {},
     "output_type": "execute_result"
    }
   ],
   "source": [
    "object_columns  = list(df.select_dtypes(include = 'object').columns)\n",
    "numerical_columns = list(df.select_dtypes(include = 'number').columns)\n",
    "object_columns, numerical_columns"
   ]
  },
  {
   "cell_type": "markdown",
   "metadata": {},
   "source": [
    "### Q1.8\n",
    "#### Let's do a bit of feature engineering. Let's create column 'pledge2goal' which define as ratio of usd_pledged_real to goal. How many outliers are there?\n",
    "#### (We use a simple rule: an object is an outlier if it does not belong to [q25 - 1.5iqr, q75 + 1.5 iqr] interval, where qxx -- xx quantile, and iqr is inter-quantile range.)"
   ]
  },
  {
   "cell_type": "code",
   "execution_count": 23,
   "metadata": {},
   "outputs": [],
   "source": [
    "df['pledge2goal'] = df['usd_pledged_real'] / df['goal'] "
   ]
  },
  {
   "cell_type": "code",
   "execution_count": 24,
   "metadata": {},
   "outputs": [
    {
     "name": "stdout",
     "output_type": "stream",
     "text": [
      "Q1.8 18416\n"
     ]
    }
   ],
   "source": [
    "def outliers(data):\n",
    "    iqr = np.quantile(data, .75) - np.quantile(data, .25)\n",
    "    boundary = [np.quantile(data, .25)-1.5*iqr, np.quantile(data, .75)+1.5*iqr]\n",
    "    return boundary\n",
    "\n",
    "\n",
    "boundary = outliers(df['pledge2goal'])\n",
    "\n",
    "cond1 = df['pledge2goal'] < boundary[0]\n",
    "cond2 = df['pledge2goal'] > boundary[1]\n",
    "\n",
    "print('Q1.8', df[cond1 | cond2]['pledge2goal'].count())\n"
   ]
  },
  {
   "cell_type": "code",
   "execution_count": 25,
   "metadata": {},
   "outputs": [],
   "source": [
    "# remove outliers from dataset\n",
    "outliers_idx = list(df[cond1 | cond2]['pledge2goal'].index)\n",
    "df.drop(outliers_idx, inplace=True)\n",
    "df.dropna(inplace=True)"
   ]
  },
  {
   "cell_type": "markdown",
   "metadata": {},
   "source": [
    "### Q1.9\n",
    "#### Visualize the feature for success and fail cases. What can you say about received distributions? (use bins=10 or 20). Type letter as your answer\n",
    "- A. Distributions intersect significantly, hard to say for sure that the ratio matters.\n",
    "- B. Distributions have almost no intersection, the bigger ratio, the bigger success.\n",
    "- C. Distributions have almost no intersection, the less ratio, the less success.\n",
    "- D. Distributions have almost no intersection, the less ratio, the bigger success."
   ]
  },
  {
   "cell_type": "code",
   "execution_count": 26,
   "metadata": {},
   "outputs": [
    {
     "name": "stdout",
     "output_type": "stream",
     "text": [
      "Q1.9 D\n"
     ]
    },
    {
     "data": {
      "image/png": "[encoded data removed]",
      "text/plain": [
       "<Figure size 432x288 with 1 Axes>"
      ]
     },
     "metadata": {
      "needs_background": "light"
     },
     "output_type": "display_data"
    }
   ],
   "source": [
    "import matplotlib.pyplot as plt\n",
    "%matplotlib inline\n",
    "\n",
    "\n",
    "\n",
    "n , x, _ = plt.hist([df.pledge2goal[df.state==0], df.pledge2goal[df.state==1]], bins = 20, label = ['Successful', 'Fails'])\n",
    "plt.legend()\n",
    "plt.ylabel('#')\n",
    "plt.xlabel('pledge2goal ratio');\n",
    "print('Q1.9', 'D')"
   ]
  },
  {
   "cell_type": "markdown",
   "metadata": {},
   "source": [
    "-----"
   ]
  },
  {
   "cell_type": "markdown",
   "metadata": {},
   "source": [
    "-----"
   ]
  },
  {
   "cell_type": "markdown",
   "metadata": {},
   "source": [
    "### Q1.10\n",
    "#### Continue with plot from Q1.9. Where are the peaks located? We expect two numbers here as the answer"
   ]
  },
  {
   "cell_type": "code",
   "execution_count": 27,
   "metadata": {},
   "outputs": [
    {
     "name": "stdout",
     "output_type": "stream",
     "text": [
      "Q1.10 0 1\n"
     ]
    }
   ],
   "source": [
    "print('Q1.10', 0, 1)"
   ]
  },
  {
   "cell_type": "markdown",
   "metadata": {},
   "source": [
    "-----"
   ]
  },
  {
   "cell_type": "markdown",
   "metadata": {},
   "source": [
    "-----"
   ]
  },
  {
   "cell_type": "markdown",
   "metadata": {},
   "source": [
    "### Q1.11\n",
    "#### Compute Pearson correlation coefficiton between the pledge2real and target variable. (Round up to second digit after point)"
   ]
  },
  {
   "cell_type": "code",
   "execution_count": 28,
   "metadata": {},
   "outputs": [
    {
     "name": "stdout",
     "output_type": "stream",
     "text": [
      "Q1.11 0.9\n"
     ]
    }
   ],
   "source": [
    "from scipy import stats\n",
    "print('Q1.11', np.round(stats.pearsonr(df['pledge2goal'].values, df['state'].values)[0], 2))"
   ]
  },
  {
   "cell_type": "markdown",
   "metadata": {},
   "source": [
    "----"
   ]
  },
  {
   "cell_type": "markdown",
   "metadata": {},
   "source": [
    "-----"
   ]
  },
  {
   "cell_type": "markdown",
   "metadata": {},
   "source": [
    "### Q1.12\n",
    "#### Visualize dependancy of numerical data with success. What can you say about it?"
   ]
  },
  {
   "cell_type": "code",
   "execution_count": 29,
   "metadata": {},
   "outputs": [],
   "source": [
    "import seaborn as sns"
   ]
  },
  {
   "cell_type": "code",
   "execution_count": 33,
   "metadata": {},
   "outputs": [],
   "source": [
    "numerical_columns.append('pledge2goal')\n"
   ]
  },
  {
   "cell_type": "code",
   "execution_count": 34,
   "metadata": {},
   "outputs": [
    {
     "data": {
      "text/plain": [
       "<seaborn.axisgrid.PairGrid at 0x1cf9f763910>"
      ]
     },
     "execution_count": 34,
     "metadata": {},
     "output_type": "execute_result"
    },
    {
     "data": {
      "image/png": "[encoded data removed]",
      "text/plain": [
       "<Figure size 1305.72x1260 with 56 Axes>"
      ]
     },
     "metadata": {
      "needs_background": "light"
     },
     "output_type": "display_data"
    }
   ],
   "source": [
    "sns.pairplot(df[numerical_columns], hue = 'state')\n",
    "# todo"
   ]
  },
  {
   "cell_type": "markdown",
   "metadata": {},
   "source": [
    "Distribution intersects for different features"
   ]
  },
  {
   "cell_type": "markdown",
   "metadata": {},
   "source": [
    "# Feature generation\n",
    "Lets' generate some more feature that could be useful"
   ]
  },
  {
   "cell_type": "markdown",
   "metadata": {},
   "source": [
    "### Q2.1 Create a year column that would hold the year. How many launched projects were in year 2012?"
   ]
  },
  {
   "cell_type": "code",
   "execution_count": 35,
   "metadata": {},
   "outputs": [
    {
     "name": "stderr",
     "output_type": "stream",
     "text": [
      "100%|███████████████████████████████████████████████████████████████████████| 351804/351804 [00:13<00:00, 25929.45it/s]\n"
     ]
    },
    {
     "name": "stdout",
     "output_type": "stream",
     "text": [
      "Q2.1 39737\n"
     ]
    }
   ],
   "source": [
    "from datetime import datetime\n",
    "from tqdm import tqdm\n",
    "launch_year = []\n",
    "launch_month = []\n",
    "launch_day = []\n",
    "for i in tqdm(range(df.shape[0])):\n",
    "    d1 = datetime.strptime(df['launched'].iloc[i], \"%Y-%m-%d %H:%M:%S\")\n",
    "    launch_month.append(d1.month)\n",
    "    launch_day.append(d1.day)\n",
    "    launch_year.append(d1.year)\n",
    "df['launch_year'] = launch_year\n",
    "# for boosting model new feature\n",
    "df['launch_month'] = launch_month\n",
    "df['launch_day'] = launch_day\n",
    "print('Q2.1',df[df['launch_year']==2012].shape[0])"
   ]
  },
  {
   "cell_type": "markdown",
   "metadata": {},
   "source": [
    "### Q2.2 Make a column 'duration_days' with number of full days from launch to deadline.\n",
    "What is median value for this column?"
   ]
  },
  {
   "cell_type": "code",
   "execution_count": 36,
   "metadata": {},
   "outputs": [
    {
     "name": "stderr",
     "output_type": "stream",
     "text": [
      "100%|███████████████████████████████████████████████████████████████████████| 351804/351804 [00:21<00:00, 16734.09it/s]\n"
     ]
    }
   ],
   "source": [
    "from datetime import datetime\n",
    "from tqdm import tqdm\n",
    "duration_days = []\n",
    "for i in tqdm(range(df.shape[0])):\n",
    "    d1 = datetime.strptime(df['launched'].iloc[i], \"%Y-%m-%d %H:%M:%S\")\n",
    "    d2 = datetime.strptime(df['deadline'].iloc[i], \"%Y-%m-%d\")\n",
    "    duration_days.append((d2-d1).days)"
   ]
  },
  {
   "cell_type": "code",
   "execution_count": 37,
   "metadata": {},
   "outputs": [],
   "source": [
    "df['duration_days'] = duration_days"
   ]
  },
  {
   "cell_type": "code",
   "execution_count": 38,
   "metadata": {},
   "outputs": [
    {
     "name": "stdout",
     "output_type": "stream",
     "text": [
      "Q2.2 29.0\n"
     ]
    }
   ],
   "source": [
    "print('Q2.2', df['duration_days'].median())"
   ]
  },
  {
   "cell_type": "markdown",
   "metadata": {},
   "source": [
    "### Q2.3 Delete mistaken value from column 'country'. What is the value?"
   ]
  },
  {
   "cell_type": "code",
   "execution_count": 39,
   "metadata": {},
   "outputs": [
    {
     "data": {
      "text/plain": [
       "US    276056\n",
       "GB     30315\n",
       "CA     13953\n",
       "AU      7368\n",
       "DE      3821\n",
       "NL      2688\n",
       "FR      2687\n",
       "IT      2647\n",
       "ES      2065\n",
       "SE      1710\n",
       "MX      1630\n",
       "NZ      1367\n",
       "DK      1080\n",
       "IE       765\n",
       "CH       695\n",
       "NO       694\n",
       "BE       572\n",
       "AT       559\n",
       "HK       556\n",
       "SG       487\n",
       "LU        58\n",
       "JP        31\n",
       "Name: country, dtype: int64"
      ]
     },
     "execution_count": 39,
     "metadata": {},
     "output_type": "execute_result"
    }
   ],
   "source": [
    "df['country'].value_counts()"
   ]
  },
  {
   "cell_type": "code",
   "execution_count": 40,
   "metadata": {},
   "outputs": [
    {
     "name": "stdout",
     "output_type": "stream",
     "text": [
      "Q2.3 seems like mistaken value is N,0\"\n"
     ]
    }
   ],
   "source": [
    "print('Q2.3', 'seems like mistaken value is N,0\"')"
   ]
  },
  {
   "cell_type": "code",
   "execution_count": 41,
   "metadata": {},
   "outputs": [],
   "source": [
    "df['country'].replace(to_replace='N,0\"', value=np.nan, inplace=True)\n",
    "# drop nan rows\n",
    "df.dropna(axis=0, how='any', inplace=True)\n"
   ]
  },
  {
   "cell_type": "code",
   "execution_count": 42,
   "metadata": {},
   "outputs": [
    {
     "data": {
      "text/html": [
       "<div>\n",
       "<style scoped>\n",
       "    .dataframe tbody tr th:only-of-type {\n",
       "        vertical-align: middle;\n",
       "    }\n",
       "\n",
       "    .dataframe tbody tr th {\n",
       "        vertical-align: top;\n",
       "    }\n",
       "\n",
       "    .dataframe thead th {\n",
       "        text-align: right;\n",
       "    }\n",
       "</style>\n",
       "<table border=\"1\" class=\"dataframe\">\n",
       "  <thead>\n",
       "    <tr style=\"text-align: right;\">\n",
       "      <th></th>\n",
       "      <th>name</th>\n",
       "      <th>category</th>\n",
       "      <th>main_category</th>\n",
       "      <th>currency</th>\n",
       "      <th>deadline</th>\n",
       "      <th>goal</th>\n",
       "      <th>launched</th>\n",
       "      <th>pledged</th>\n",
       "      <th>state</th>\n",
       "      <th>backers</th>\n",
       "      <th>country</th>\n",
       "      <th>usd pledged</th>\n",
       "      <th>usd_pledged_real</th>\n",
       "      <th>usd_goal_real</th>\n",
       "      <th>pledge2goal</th>\n",
       "      <th>launch_year</th>\n",
       "      <th>launch_month</th>\n",
       "      <th>launch_day</th>\n",
       "      <th>duration_days</th>\n",
       "    </tr>\n",
       "    <tr>\n",
       "      <th>ID</th>\n",
       "      <th></th>\n",
       "      <th></th>\n",
       "      <th></th>\n",
       "      <th></th>\n",
       "      <th></th>\n",
       "      <th></th>\n",
       "      <th></th>\n",
       "      <th></th>\n",
       "      <th></th>\n",
       "      <th></th>\n",
       "      <th></th>\n",
       "      <th></th>\n",
       "      <th></th>\n",
       "      <th></th>\n",
       "      <th></th>\n",
       "      <th></th>\n",
       "      <th></th>\n",
       "      <th></th>\n",
       "      <th></th>\n",
       "    </tr>\n",
       "  </thead>\n",
       "  <tbody>\n",
       "    <tr>\n",
       "      <th>1000002330</th>\n",
       "      <td>The Songs of Adelaide &amp; Abullah</td>\n",
       "      <td>Poetry</td>\n",
       "      <td>Publishing</td>\n",
       "      <td>GBP</td>\n",
       "      <td>2015-10-09</td>\n",
       "      <td>1000.0</td>\n",
       "      <td>2015-08-11 12:12:28</td>\n",
       "      <td>0.0</td>\n",
       "      <td>0</td>\n",
       "      <td>0.0</td>\n",
       "      <td>GB</td>\n",
       "      <td>0.0</td>\n",
       "      <td>0.0</td>\n",
       "      <td>1533.95</td>\n",
       "      <td>0.000000</td>\n",
       "      <td>2015</td>\n",
       "      <td>8</td>\n",
       "      <td>11</td>\n",
       "      <td>58</td>\n",
       "    </tr>\n",
       "    <tr>\n",
       "      <th>1000003930</th>\n",
       "      <td>Greeting From Earth: ZGAC Arts Capsule For ET</td>\n",
       "      <td>Narrative Film</td>\n",
       "      <td>Film &amp; Video</td>\n",
       "      <td>USD</td>\n",
       "      <td>2017-11-01</td>\n",
       "      <td>30000.0</td>\n",
       "      <td>2017-09-02 04:43:57</td>\n",
       "      <td>2421.0</td>\n",
       "      <td>0</td>\n",
       "      <td>15.0</td>\n",
       "      <td>US</td>\n",
       "      <td>100.0</td>\n",
       "      <td>2421.0</td>\n",
       "      <td>30000.00</td>\n",
       "      <td>0.080700</td>\n",
       "      <td>2017</td>\n",
       "      <td>9</td>\n",
       "      <td>2</td>\n",
       "      <td>59</td>\n",
       "    </tr>\n",
       "    <tr>\n",
       "      <th>1000004038</th>\n",
       "      <td>Where is Hank?</td>\n",
       "      <td>Narrative Film</td>\n",
       "      <td>Film &amp; Video</td>\n",
       "      <td>USD</td>\n",
       "      <td>2013-02-26</td>\n",
       "      <td>45000.0</td>\n",
       "      <td>2013-01-12 00:20:50</td>\n",
       "      <td>220.0</td>\n",
       "      <td>0</td>\n",
       "      <td>3.0</td>\n",
       "      <td>US</td>\n",
       "      <td>220.0</td>\n",
       "      <td>220.0</td>\n",
       "      <td>45000.00</td>\n",
       "      <td>0.004889</td>\n",
       "      <td>2013</td>\n",
       "      <td>1</td>\n",
       "      <td>12</td>\n",
       "      <td>44</td>\n",
       "    </tr>\n",
       "    <tr>\n",
       "      <th>1000007540</th>\n",
       "      <td>ToshiCapital Rekordz Needs Help to Complete Album</td>\n",
       "      <td>Music</td>\n",
       "      <td>Music</td>\n",
       "      <td>USD</td>\n",
       "      <td>2012-04-16</td>\n",
       "      <td>5000.0</td>\n",
       "      <td>2012-03-17 03:24:11</td>\n",
       "      <td>1.0</td>\n",
       "      <td>0</td>\n",
       "      <td>1.0</td>\n",
       "      <td>US</td>\n",
       "      <td>1.0</td>\n",
       "      <td>1.0</td>\n",
       "      <td>5000.00</td>\n",
       "      <td>0.000200</td>\n",
       "      <td>2012</td>\n",
       "      <td>3</td>\n",
       "      <td>17</td>\n",
       "      <td>29</td>\n",
       "    </tr>\n",
       "    <tr>\n",
       "      <th>1000011046</th>\n",
       "      <td>Community Film Project: The Art of Neighborhoo...</td>\n",
       "      <td>Film &amp; Video</td>\n",
       "      <td>Film &amp; Video</td>\n",
       "      <td>USD</td>\n",
       "      <td>2015-08-29</td>\n",
       "      <td>19500.0</td>\n",
       "      <td>2015-07-04 08:35:03</td>\n",
       "      <td>1283.0</td>\n",
       "      <td>0</td>\n",
       "      <td>14.0</td>\n",
       "      <td>US</td>\n",
       "      <td>1283.0</td>\n",
       "      <td>1283.0</td>\n",
       "      <td>19500.00</td>\n",
       "      <td>0.065795</td>\n",
       "      <td>2015</td>\n",
       "      <td>7</td>\n",
       "      <td>4</td>\n",
       "      <td>55</td>\n",
       "    </tr>\n",
       "    <tr>\n",
       "      <th>...</th>\n",
       "      <td>...</td>\n",
       "      <td>...</td>\n",
       "      <td>...</td>\n",
       "      <td>...</td>\n",
       "      <td>...</td>\n",
       "      <td>...</td>\n",
       "      <td>...</td>\n",
       "      <td>...</td>\n",
       "      <td>...</td>\n",
       "      <td>...</td>\n",
       "      <td>...</td>\n",
       "      <td>...</td>\n",
       "      <td>...</td>\n",
       "      <td>...</td>\n",
       "      <td>...</td>\n",
       "      <td>...</td>\n",
       "      <td>...</td>\n",
       "      <td>...</td>\n",
       "      <td>...</td>\n",
       "    </tr>\n",
       "    <tr>\n",
       "      <th>999976400</th>\n",
       "      <td>ChknTruk Nationwide Charity Drive 2014 (Canceled)</td>\n",
       "      <td>Documentary</td>\n",
       "      <td>Film &amp; Video</td>\n",
       "      <td>USD</td>\n",
       "      <td>2014-10-17</td>\n",
       "      <td>50000.0</td>\n",
       "      <td>2014-09-17 02:35:30</td>\n",
       "      <td>25.0</td>\n",
       "      <td>0</td>\n",
       "      <td>1.0</td>\n",
       "      <td>US</td>\n",
       "      <td>25.0</td>\n",
       "      <td>25.0</td>\n",
       "      <td>50000.00</td>\n",
       "      <td>0.000500</td>\n",
       "      <td>2014</td>\n",
       "      <td>9</td>\n",
       "      <td>17</td>\n",
       "      <td>29</td>\n",
       "    </tr>\n",
       "    <tr>\n",
       "      <th>999977640</th>\n",
       "      <td>The Tribe</td>\n",
       "      <td>Narrative Film</td>\n",
       "      <td>Film &amp; Video</td>\n",
       "      <td>USD</td>\n",
       "      <td>2011-07-19</td>\n",
       "      <td>1500.0</td>\n",
       "      <td>2011-06-22 03:35:14</td>\n",
       "      <td>155.0</td>\n",
       "      <td>0</td>\n",
       "      <td>5.0</td>\n",
       "      <td>US</td>\n",
       "      <td>155.0</td>\n",
       "      <td>155.0</td>\n",
       "      <td>1500.00</td>\n",
       "      <td>0.103333</td>\n",
       "      <td>2011</td>\n",
       "      <td>6</td>\n",
       "      <td>22</td>\n",
       "      <td>26</td>\n",
       "    </tr>\n",
       "    <tr>\n",
       "      <th>999986353</th>\n",
       "      <td>Walls of Remedy- New lesbian Romantic Comedy f...</td>\n",
       "      <td>Narrative Film</td>\n",
       "      <td>Film &amp; Video</td>\n",
       "      <td>USD</td>\n",
       "      <td>2010-08-16</td>\n",
       "      <td>15000.0</td>\n",
       "      <td>2010-07-01 19:40:30</td>\n",
       "      <td>20.0</td>\n",
       "      <td>0</td>\n",
       "      <td>1.0</td>\n",
       "      <td>US</td>\n",
       "      <td>20.0</td>\n",
       "      <td>20.0</td>\n",
       "      <td>15000.00</td>\n",
       "      <td>0.001333</td>\n",
       "      <td>2010</td>\n",
       "      <td>7</td>\n",
       "      <td>1</td>\n",
       "      <td>45</td>\n",
       "    </tr>\n",
       "    <tr>\n",
       "      <th>999987933</th>\n",
       "      <td>BioDefense Education Kit</td>\n",
       "      <td>Technology</td>\n",
       "      <td>Technology</td>\n",
       "      <td>USD</td>\n",
       "      <td>2016-02-13</td>\n",
       "      <td>15000.0</td>\n",
       "      <td>2016-01-13 18:13:53</td>\n",
       "      <td>200.0</td>\n",
       "      <td>0</td>\n",
       "      <td>6.0</td>\n",
       "      <td>US</td>\n",
       "      <td>200.0</td>\n",
       "      <td>200.0</td>\n",
       "      <td>15000.00</td>\n",
       "      <td>0.013333</td>\n",
       "      <td>2016</td>\n",
       "      <td>1</td>\n",
       "      <td>13</td>\n",
       "      <td>30</td>\n",
       "    </tr>\n",
       "    <tr>\n",
       "      <th>999988282</th>\n",
       "      <td>Nou Renmen Ayiti!  We Love Haiti!</td>\n",
       "      <td>Performance Art</td>\n",
       "      <td>Art</td>\n",
       "      <td>USD</td>\n",
       "      <td>2011-08-16</td>\n",
       "      <td>2000.0</td>\n",
       "      <td>2011-07-19 09:07:47</td>\n",
       "      <td>524.0</td>\n",
       "      <td>0</td>\n",
       "      <td>17.0</td>\n",
       "      <td>US</td>\n",
       "      <td>524.0</td>\n",
       "      <td>524.0</td>\n",
       "      <td>2000.00</td>\n",
       "      <td>0.262000</td>\n",
       "      <td>2011</td>\n",
       "      <td>7</td>\n",
       "      <td>19</td>\n",
       "      <td>27</td>\n",
       "    </tr>\n",
       "  </tbody>\n",
       "</table>\n",
       "<p>351804 rows × 19 columns</p>\n",
       "</div>"
      ],
      "text/plain": [
       "                                                         name  \\\n",
       "ID                                                              \n",
       "1000002330                    The Songs of Adelaide & Abullah   \n",
       "1000003930      Greeting From Earth: ZGAC Arts Capsule For ET   \n",
       "1000004038                                     Where is Hank?   \n",
       "1000007540  ToshiCapital Rekordz Needs Help to Complete Album   \n",
       "1000011046  Community Film Project: The Art of Neighborhoo...   \n",
       "...                                                       ...   \n",
       "999976400   ChknTruk Nationwide Charity Drive 2014 (Canceled)   \n",
       "999977640                                           The Tribe   \n",
       "999986353   Walls of Remedy- New lesbian Romantic Comedy f...   \n",
       "999987933                            BioDefense Education Kit   \n",
       "999988282                   Nou Renmen Ayiti!  We Love Haiti!   \n",
       "\n",
       "                   category main_category currency    deadline     goal  \\\n",
       "ID                                                                        \n",
       "1000002330           Poetry    Publishing      GBP  2015-10-09   1000.0   \n",
       "1000003930   Narrative Film  Film & Video      USD  2017-11-01  30000.0   \n",
       "1000004038   Narrative Film  Film & Video      USD  2013-02-26  45000.0   \n",
       "1000007540            Music         Music      USD  2012-04-16   5000.0   \n",
       "1000011046     Film & Video  Film & Video      USD  2015-08-29  19500.0   \n",
       "...                     ...           ...      ...         ...      ...   \n",
       "999976400       Documentary  Film & Video      USD  2014-10-17  50000.0   \n",
       "999977640    Narrative Film  Film & Video      USD  2011-07-19   1500.0   \n",
       "999986353    Narrative Film  Film & Video      USD  2010-08-16  15000.0   \n",
       "999987933        Technology    Technology      USD  2016-02-13  15000.0   \n",
       "999988282   Performance Art           Art      USD  2011-08-16   2000.0   \n",
       "\n",
       "                       launched  pledged  state  backers country  usd pledged  \\\n",
       "ID                                                                              \n",
       "1000002330  2015-08-11 12:12:28      0.0      0      0.0      GB          0.0   \n",
       "1000003930  2017-09-02 04:43:57   2421.0      0     15.0      US        100.0   \n",
       "1000004038  2013-01-12 00:20:50    220.0      0      3.0      US        220.0   \n",
       "1000007540  2012-03-17 03:24:11      1.0      0      1.0      US          1.0   \n",
       "1000011046  2015-07-04 08:35:03   1283.0      0     14.0      US       1283.0   \n",
       "...                         ...      ...    ...      ...     ...          ...   \n",
       "999976400   2014-09-17 02:35:30     25.0      0      1.0      US         25.0   \n",
       "999977640   2011-06-22 03:35:14    155.0      0      5.0      US        155.0   \n",
       "999986353   2010-07-01 19:40:30     20.0      0      1.0      US         20.0   \n",
       "999987933   2016-01-13 18:13:53    200.0      0      6.0      US        200.0   \n",
       "999988282   2011-07-19 09:07:47    524.0      0     17.0      US        524.0   \n",
       "\n",
       "            usd_pledged_real  usd_goal_real  pledge2goal  launch_year  \\\n",
       "ID                                                                      \n",
       "1000002330               0.0        1533.95     0.000000         2015   \n",
       "1000003930            2421.0       30000.00     0.080700         2017   \n",
       "1000004038             220.0       45000.00     0.004889         2013   \n",
       "1000007540               1.0        5000.00     0.000200         2012   \n",
       "1000011046            1283.0       19500.00     0.065795         2015   \n",
       "...                      ...            ...          ...          ...   \n",
       "999976400               25.0       50000.00     0.000500         2014   \n",
       "999977640              155.0        1500.00     0.103333         2011   \n",
       "999986353               20.0       15000.00     0.001333         2010   \n",
       "999987933              200.0       15000.00     0.013333         2016   \n",
       "999988282              524.0        2000.00     0.262000         2011   \n",
       "\n",
       "            launch_month  launch_day  duration_days  \n",
       "ID                                                   \n",
       "1000002330             8          11             58  \n",
       "1000003930             9           2             59  \n",
       "1000004038             1          12             44  \n",
       "1000007540             3          17             29  \n",
       "1000011046             7           4             55  \n",
       "...                  ...         ...            ...  \n",
       "999976400              9          17             29  \n",
       "999977640              6          22             26  \n",
       "999986353              7           1             45  \n",
       "999987933              1          13             30  \n",
       "999988282              7          19             27  \n",
       "\n",
       "[351804 rows x 19 columns]"
      ]
     },
     "execution_count": 42,
     "metadata": {},
     "output_type": "execute_result"
    }
   ],
   "source": [
    "df"
   ]
  },
  {
   "cell_type": "markdown",
   "metadata": {},
   "source": [
    "### Q2.4 Make column 'region' out of column country (america, europe, asia, oceania(including australiza/nz))\n",
    "Where is the region with the worst conversion rate (percentage of successful projects)"
   ]
  },
  {
   "cell_type": "code",
   "execution_count": 43,
   "metadata": {},
   "outputs": [],
   "source": [
    "import pycountry \n",
    "import pycountry_convert as pc\n",
    "\n",
    "country_codes = list(df['country'].value_counts().index)\n",
    "continent_name = [pc.country_alpha2_to_continent_code(code) for code in country_codes]\n"
   ]
  },
  {
   "cell_type": "code",
   "execution_count": 44,
   "metadata": {},
   "outputs": [],
   "source": [
    "continent = {'NA' : 'america', \n",
    "             'EU' : 'europe',\n",
    "             'OC' : 'oceania',\n",
    "             'AS' : 'asia'}"
   ]
  },
  {
   "cell_type": "code",
   "execution_count": 45,
   "metadata": {},
   "outputs": [],
   "source": [
    "df['country'] = df.country.apply(lambda x: pc.country_alpha2_to_continent_code(x))"
   ]
  },
  {
   "cell_type": "code",
   "execution_count": 46,
   "metadata": {},
   "outputs": [],
   "source": [
    "df['country'] = df.country.map(continent)"
   ]
  },
  {
   "cell_type": "code",
   "execution_count": 47,
   "metadata": {},
   "outputs": [],
   "source": [
    "continent_popularity = {\n",
    "    'america' : df.country.value_counts()['america']/df.shape[0],\n",
    "    'asia' : df.country.value_counts()['asia']/df.shape[0],\n",
    "    'oceania' : df.country.value_counts()['oceania']/df.shape[0],\n",
    "    'europe':df.country.value_counts()['europe']/df.shape[0]\n",
    "}\n",
    "\n",
    "# for boosting model new feature\n",
    "df['region'] = df['country']\n",
    "df['country_popularity'] = df['region'].map(continent_popularity)"
   ]
  },
  {
   "cell_type": "code",
   "execution_count": 48,
   "metadata": {},
   "outputs": [
    {
     "data": {
      "text/html": [
       "<div>\n",
       "<style scoped>\n",
       "    .dataframe tbody tr th:only-of-type {\n",
       "        vertical-align: middle;\n",
       "    }\n",
       "\n",
       "    .dataframe tbody tr th {\n",
       "        vertical-align: top;\n",
       "    }\n",
       "\n",
       "    .dataframe thead th {\n",
       "        text-align: right;\n",
       "    }\n",
       "</style>\n",
       "<table border=\"1\" class=\"dataframe\">\n",
       "  <thead>\n",
       "    <tr style=\"text-align: right;\">\n",
       "      <th></th>\n",
       "      <th>name</th>\n",
       "      <th>category</th>\n",
       "      <th>main_category</th>\n",
       "      <th>currency</th>\n",
       "      <th>deadline</th>\n",
       "      <th>goal</th>\n",
       "      <th>launched</th>\n",
       "      <th>pledged</th>\n",
       "      <th>state</th>\n",
       "      <th>backers</th>\n",
       "      <th>...</th>\n",
       "      <th>usd pledged</th>\n",
       "      <th>usd_pledged_real</th>\n",
       "      <th>usd_goal_real</th>\n",
       "      <th>pledge2goal</th>\n",
       "      <th>launch_year</th>\n",
       "      <th>launch_month</th>\n",
       "      <th>launch_day</th>\n",
       "      <th>duration_days</th>\n",
       "      <th>region</th>\n",
       "      <th>country_popularity</th>\n",
       "    </tr>\n",
       "    <tr>\n",
       "      <th>ID</th>\n",
       "      <th></th>\n",
       "      <th></th>\n",
       "      <th></th>\n",
       "      <th></th>\n",
       "      <th></th>\n",
       "      <th></th>\n",
       "      <th></th>\n",
       "      <th></th>\n",
       "      <th></th>\n",
       "      <th></th>\n",
       "      <th></th>\n",
       "      <th></th>\n",
       "      <th></th>\n",
       "      <th></th>\n",
       "      <th></th>\n",
       "      <th></th>\n",
       "      <th></th>\n",
       "      <th></th>\n",
       "      <th></th>\n",
       "      <th></th>\n",
       "      <th></th>\n",
       "    </tr>\n",
       "  </thead>\n",
       "  <tbody>\n",
       "    <tr>\n",
       "      <th>1000002330</th>\n",
       "      <td>The Songs of Adelaide &amp; Abullah</td>\n",
       "      <td>Poetry</td>\n",
       "      <td>Publishing</td>\n",
       "      <td>GBP</td>\n",
       "      <td>2015-10-09</td>\n",
       "      <td>1000.0</td>\n",
       "      <td>2015-08-11 12:12:28</td>\n",
       "      <td>0.0</td>\n",
       "      <td>0</td>\n",
       "      <td>0.0</td>\n",
       "      <td>...</td>\n",
       "      <td>0.0</td>\n",
       "      <td>0.0</td>\n",
       "      <td>1533.95</td>\n",
       "      <td>0.000000</td>\n",
       "      <td>2015</td>\n",
       "      <td>8</td>\n",
       "      <td>11</td>\n",
       "      <td>58</td>\n",
       "      <td>europe</td>\n",
       "      <td>0.143137</td>\n",
       "    </tr>\n",
       "    <tr>\n",
       "      <th>1000003930</th>\n",
       "      <td>Greeting From Earth: ZGAC Arts Capsule For ET</td>\n",
       "      <td>Narrative Film</td>\n",
       "      <td>Film &amp; Video</td>\n",
       "      <td>USD</td>\n",
       "      <td>2017-11-01</td>\n",
       "      <td>30000.0</td>\n",
       "      <td>2017-09-02 04:43:57</td>\n",
       "      <td>2421.0</td>\n",
       "      <td>0</td>\n",
       "      <td>15.0</td>\n",
       "      <td>...</td>\n",
       "      <td>100.0</td>\n",
       "      <td>2421.0</td>\n",
       "      <td>30000.00</td>\n",
       "      <td>0.080700</td>\n",
       "      <td>2017</td>\n",
       "      <td>9</td>\n",
       "      <td>2</td>\n",
       "      <td>59</td>\n",
       "      <td>america</td>\n",
       "      <td>0.828981</td>\n",
       "    </tr>\n",
       "    <tr>\n",
       "      <th>1000004038</th>\n",
       "      <td>Where is Hank?</td>\n",
       "      <td>Narrative Film</td>\n",
       "      <td>Film &amp; Video</td>\n",
       "      <td>USD</td>\n",
       "      <td>2013-02-26</td>\n",
       "      <td>45000.0</td>\n",
       "      <td>2013-01-12 00:20:50</td>\n",
       "      <td>220.0</td>\n",
       "      <td>0</td>\n",
       "      <td>3.0</td>\n",
       "      <td>...</td>\n",
       "      <td>220.0</td>\n",
       "      <td>220.0</td>\n",
       "      <td>45000.00</td>\n",
       "      <td>0.004889</td>\n",
       "      <td>2013</td>\n",
       "      <td>1</td>\n",
       "      <td>12</td>\n",
       "      <td>44</td>\n",
       "      <td>america</td>\n",
       "      <td>0.828981</td>\n",
       "    </tr>\n",
       "    <tr>\n",
       "      <th>1000007540</th>\n",
       "      <td>ToshiCapital Rekordz Needs Help to Complete Album</td>\n",
       "      <td>Music</td>\n",
       "      <td>Music</td>\n",
       "      <td>USD</td>\n",
       "      <td>2012-04-16</td>\n",
       "      <td>5000.0</td>\n",
       "      <td>2012-03-17 03:24:11</td>\n",
       "      <td>1.0</td>\n",
       "      <td>0</td>\n",
       "      <td>1.0</td>\n",
       "      <td>...</td>\n",
       "      <td>1.0</td>\n",
       "      <td>1.0</td>\n",
       "      <td>5000.00</td>\n",
       "      <td>0.000200</td>\n",
       "      <td>2012</td>\n",
       "      <td>3</td>\n",
       "      <td>17</td>\n",
       "      <td>29</td>\n",
       "      <td>america</td>\n",
       "      <td>0.828981</td>\n",
       "    </tr>\n",
       "    <tr>\n",
       "      <th>1000011046</th>\n",
       "      <td>Community Film Project: The Art of Neighborhoo...</td>\n",
       "      <td>Film &amp; Video</td>\n",
       "      <td>Film &amp; Video</td>\n",
       "      <td>USD</td>\n",
       "      <td>2015-08-29</td>\n",
       "      <td>19500.0</td>\n",
       "      <td>2015-07-04 08:35:03</td>\n",
       "      <td>1283.0</td>\n",
       "      <td>0</td>\n",
       "      <td>14.0</td>\n",
       "      <td>...</td>\n",
       "      <td>1283.0</td>\n",
       "      <td>1283.0</td>\n",
       "      <td>19500.00</td>\n",
       "      <td>0.065795</td>\n",
       "      <td>2015</td>\n",
       "      <td>7</td>\n",
       "      <td>4</td>\n",
       "      <td>55</td>\n",
       "      <td>america</td>\n",
       "      <td>0.828981</td>\n",
       "    </tr>\n",
       "  </tbody>\n",
       "</table>\n",
       "<p>5 rows × 21 columns</p>\n",
       "</div>"
      ],
      "text/plain": [
       "                                                         name        category  \\\n",
       "ID                                                                              \n",
       "1000002330                    The Songs of Adelaide & Abullah          Poetry   \n",
       "1000003930      Greeting From Earth: ZGAC Arts Capsule For ET  Narrative Film   \n",
       "1000004038                                     Where is Hank?  Narrative Film   \n",
       "1000007540  ToshiCapital Rekordz Needs Help to Complete Album           Music   \n",
       "1000011046  Community Film Project: The Art of Neighborhoo...    Film & Video   \n",
       "\n",
       "           main_category currency    deadline     goal             launched  \\\n",
       "ID                                                                            \n",
       "1000002330    Publishing      GBP  2015-10-09   1000.0  2015-08-11 12:12:28   \n",
       "1000003930  Film & Video      USD  2017-11-01  30000.0  2017-09-02 04:43:57   \n",
       "1000004038  Film & Video      USD  2013-02-26  45000.0  2013-01-12 00:20:50   \n",
       "1000007540         Music      USD  2012-04-16   5000.0  2012-03-17 03:24:11   \n",
       "1000011046  Film & Video      USD  2015-08-29  19500.0  2015-07-04 08:35:03   \n",
       "\n",
       "            pledged  state  backers  ... usd pledged  usd_pledged_real  \\\n",
       "ID                                   ...                                 \n",
       "1000002330      0.0      0      0.0  ...         0.0               0.0   \n",
       "1000003930   2421.0      0     15.0  ...       100.0            2421.0   \n",
       "1000004038    220.0      0      3.0  ...       220.0             220.0   \n",
       "1000007540      1.0      0      1.0  ...         1.0               1.0   \n",
       "1000011046   1283.0      0     14.0  ...      1283.0            1283.0   \n",
       "\n",
       "            usd_goal_real  pledge2goal  launch_year  launch_month  launch_day  \\\n",
       "ID                                                                              \n",
       "1000002330        1533.95     0.000000         2015             8          11   \n",
       "1000003930       30000.00     0.080700         2017             9           2   \n",
       "1000004038       45000.00     0.004889         2013             1          12   \n",
       "1000007540        5000.00     0.000200         2012             3          17   \n",
       "1000011046       19500.00     0.065795         2015             7           4   \n",
       "\n",
       "            duration_days   region country_popularity  \n",
       "ID                                                     \n",
       "1000002330             58   europe           0.143137  \n",
       "1000003930             59  america           0.828981  \n",
       "1000004038             44  america           0.828981  \n",
       "1000007540             29  america           0.828981  \n",
       "1000011046             55  america           0.828981  \n",
       "\n",
       "[5 rows x 21 columns]"
      ]
     },
     "execution_count": 48,
     "metadata": {},
     "output_type": "execute_result"
    }
   ],
   "source": [
    "df.head()"
   ]
  },
  {
   "cell_type": "code",
   "execution_count": 49,
   "metadata": {},
   "outputs": [
    {
     "name": "stdout",
     "output_type": "stream",
     "text": [
      "{0.3421113088441532: 'america', 0.26537056160139805: 'europe', 0.2393817973669147: 'oceania', 0.33426443202979517: 'asia'}\n",
      "Q2.4 oceania\n"
     ]
    }
   ],
   "source": [
    "countries = list(continent.values())\n",
    "success_rate =[df[df.country==i].state.value_counts()[1]/df[df.country==i].state.value_counts().sum() for i in countries]\n",
    "success_dict = dict(zip( success_rate, countries))\n",
    "print(success_dict)\n",
    "best_rate = sorted(success_dict, reverse=True)[-1]\n",
    "print('Q2.4',success_dict[best_rate])"
   ]
  },
  {
   "cell_type": "markdown",
   "metadata": {},
   "source": [
    "### Q2.5 For each main_category leave only the three most popular category and replace other with \"other\"\n",
    "What is the most frequent subcategory for design?"
   ]
  },
  {
   "cell_type": "code",
   "execution_count": 50,
   "metadata": {},
   "outputs": [
    {
     "name": "stdout",
     "output_type": "stream",
     "text": [
      "['Film & Video', 'Music', 'Publishing', 'Games', 'Technology', 'Art', 'Design', 'Food', 'Fashion', 'Theater', 'Photography', 'Comics', 'Crafts', 'Journalism', 'Dance']\n"
     ]
    }
   ],
   "source": [
    "categories =list(df.main_category.value_counts().index)\n",
    "print(categories)"
   ]
  },
  {
   "cell_type": "code",
   "execution_count": 51,
   "metadata": {},
   "outputs": [],
   "source": [
    "map_categories = dict()\n",
    "for i in categories:\n",
    "    most_popular_category = list(df[df.main_category==i]['category'].value_counts().index)\n",
    "    changed_categories = most_popular_category[:3]+['other']*(len(most_popular_category)-3)\n",
    "    map_categories.update(dict(zip(most_popular_category, changed_categories)))"
   ]
  },
  {
   "cell_type": "code",
   "execution_count": 52,
   "metadata": {},
   "outputs": [],
   "source": [
    "df.category = df.category.map(map_categories)"
   ]
  },
  {
   "cell_type": "code",
   "execution_count": 53,
   "metadata": {},
   "outputs": [
    {
     "name": "stdout",
     "output_type": "stream",
     "text": [
      "Q2.5 Product Design\n"
     ]
    }
   ],
   "source": [
    "print('Q2.5', df[df.main_category=='Design']['category'].value_counts().index[0])"
   ]
  },
  {
   "cell_type": "markdown",
   "metadata": {},
   "source": [
    "### Q2.6 create the columns \"name_length\" with length of the name.\n",
    "What is the biggets length?"
   ]
  },
  {
   "cell_type": "code",
   "execution_count": 54,
   "metadata": {},
   "outputs": [],
   "source": [
    "name_length = [len(str(df['name'].iloc[i])) for i in range(df.shape[0])]"
   ]
  },
  {
   "cell_type": "code",
   "execution_count": 55,
   "metadata": {},
   "outputs": [
    {
     "name": "stdout",
     "output_type": "stream",
     "text": [
      "Q2.6 96\n"
     ]
    }
   ],
   "source": [
    "maxlen = np.argmax(name_length)\n",
    "print('Q2.6', np.max(name_length))"
   ]
  },
  {
   "cell_type": "code",
   "execution_count": 56,
   "metadata": {},
   "outputs": [],
   "source": [
    "df['name_length'] = name_length"
   ]
  },
  {
   "cell_type": "markdown",
   "metadata": {},
   "source": [
    "# Preprocessing"
   ]
  },
  {
   "cell_type": "markdown",
   "metadata": {},
   "source": [
    "### Q3.1 Drop the leaking columns\n",
    "Based on what we have already seen, can you assume what features are leakeges? What is the columns? Drop them\n"
   ]
  },
  {
   "cell_type": "code",
   "execution_count": 57,
   "metadata": {},
   "outputs": [],
   "source": [
    "drop_columns = ['pledged','usd pledged','usd_pledged_real','pledge2goal','backers']\n",
    "df.drop(drop_columns, axis=1, inplace=True)"
   ]
  },
  {
   "cell_type": "code",
   "execution_count": 58,
   "metadata": {},
   "outputs": [
    {
     "data": {
      "text/html": [
       "<div>\n",
       "<style scoped>\n",
       "    .dataframe tbody tr th:only-of-type {\n",
       "        vertical-align: middle;\n",
       "    }\n",
       "\n",
       "    .dataframe tbody tr th {\n",
       "        vertical-align: top;\n",
       "    }\n",
       "\n",
       "    .dataframe thead th {\n",
       "        text-align: right;\n",
       "    }\n",
       "</style>\n",
       "<table border=\"1\" class=\"dataframe\">\n",
       "  <thead>\n",
       "    <tr style=\"text-align: right;\">\n",
       "      <th></th>\n",
       "      <th>name</th>\n",
       "      <th>category</th>\n",
       "      <th>main_category</th>\n",
       "      <th>currency</th>\n",
       "      <th>deadline</th>\n",
       "      <th>goal</th>\n",
       "      <th>launched</th>\n",
       "      <th>state</th>\n",
       "      <th>country</th>\n",
       "      <th>usd_goal_real</th>\n",
       "      <th>launch_year</th>\n",
       "      <th>launch_month</th>\n",
       "      <th>launch_day</th>\n",
       "      <th>duration_days</th>\n",
       "      <th>region</th>\n",
       "      <th>country_popularity</th>\n",
       "      <th>name_length</th>\n",
       "    </tr>\n",
       "    <tr>\n",
       "      <th>ID</th>\n",
       "      <th></th>\n",
       "      <th></th>\n",
       "      <th></th>\n",
       "      <th></th>\n",
       "      <th></th>\n",
       "      <th></th>\n",
       "      <th></th>\n",
       "      <th></th>\n",
       "      <th></th>\n",
       "      <th></th>\n",
       "      <th></th>\n",
       "      <th></th>\n",
       "      <th></th>\n",
       "      <th></th>\n",
       "      <th></th>\n",
       "      <th></th>\n",
       "      <th></th>\n",
       "    </tr>\n",
       "  </thead>\n",
       "  <tbody>\n",
       "    <tr>\n",
       "      <th>1000002330</th>\n",
       "      <td>The Songs of Adelaide &amp; Abullah</td>\n",
       "      <td>other</td>\n",
       "      <td>Publishing</td>\n",
       "      <td>GBP</td>\n",
       "      <td>2015-10-09</td>\n",
       "      <td>1000.0</td>\n",
       "      <td>2015-08-11 12:12:28</td>\n",
       "      <td>0</td>\n",
       "      <td>europe</td>\n",
       "      <td>1533.95</td>\n",
       "      <td>2015</td>\n",
       "      <td>8</td>\n",
       "      <td>11</td>\n",
       "      <td>58</td>\n",
       "      <td>europe</td>\n",
       "      <td>0.143137</td>\n",
       "      <td>31</td>\n",
       "    </tr>\n",
       "    <tr>\n",
       "      <th>1000003930</th>\n",
       "      <td>Greeting From Earth: ZGAC Arts Capsule For ET</td>\n",
       "      <td>other</td>\n",
       "      <td>Film &amp; Video</td>\n",
       "      <td>USD</td>\n",
       "      <td>2017-11-01</td>\n",
       "      <td>30000.0</td>\n",
       "      <td>2017-09-02 04:43:57</td>\n",
       "      <td>0</td>\n",
       "      <td>america</td>\n",
       "      <td>30000.00</td>\n",
       "      <td>2017</td>\n",
       "      <td>9</td>\n",
       "      <td>2</td>\n",
       "      <td>59</td>\n",
       "      <td>america</td>\n",
       "      <td>0.828981</td>\n",
       "      <td>45</td>\n",
       "    </tr>\n",
       "  </tbody>\n",
       "</table>\n",
       "</div>"
      ],
      "text/plain": [
       "                                                     name category  \\\n",
       "ID                                                                   \n",
       "1000002330                The Songs of Adelaide & Abullah    other   \n",
       "1000003930  Greeting From Earth: ZGAC Arts Capsule For ET    other   \n",
       "\n",
       "           main_category currency    deadline     goal             launched  \\\n",
       "ID                                                                            \n",
       "1000002330    Publishing      GBP  2015-10-09   1000.0  2015-08-11 12:12:28   \n",
       "1000003930  Film & Video      USD  2017-11-01  30000.0  2017-09-02 04:43:57   \n",
       "\n",
       "            state  country  usd_goal_real  launch_year  launch_month  \\\n",
       "ID                                                                     \n",
       "1000002330      0   europe        1533.95         2015             8   \n",
       "1000003930      0  america       30000.00         2017             9   \n",
       "\n",
       "            launch_day  duration_days   region  country_popularity  \\\n",
       "ID                                                                   \n",
       "1000002330          11             58   europe            0.143137   \n",
       "1000003930           2             59  america            0.828981   \n",
       "\n",
       "            name_length  \n",
       "ID                       \n",
       "1000002330           31  \n",
       "1000003930           45  "
      ]
     },
     "execution_count": 58,
     "metadata": {},
     "output_type": "execute_result"
    }
   ],
   "source": [
    "df.head(2)"
   ]
  },
  {
   "cell_type": "markdown",
   "metadata": {},
   "source": [
    "### Q3.2 Deal with the categorical features.\n",
    "Lets drop some more columns for now (name, deadline, launched, country, usd_goal_real). Note: you can re-use these columns in the Q5 section. \n",
    "Preprocess the rest of categorical columns. How many columns do you have now?"
   ]
  },
  {
   "cell_type": "code",
   "execution_count": 59,
   "metadata": {},
   "outputs": [],
   "source": [
    "drop_columns = ['country', 'usd_goal_real', 'name', 'deadline', 'launched']\n",
    "\n",
    "drop_columns_for_boosting = ['country_popularity', 'launch_month', 'launch_day']\n",
    "\n",
    "df.drop(drop_columns, axis=1, inplace=True)\n",
    "# boosting data frame\n",
    "boosting_df = df.copy()\n",
    "df.drop(drop_columns_for_boosting, axis=1, inplace=True)"
   ]
  },
  {
   "cell_type": "code",
   "execution_count": 60,
   "metadata": {},
   "outputs": [],
   "source": [
    "categorical_columns = ['currency', 'category', 'main_category', 'region' ]\n",
    "df = pd.get_dummies(df, columns = categorical_columns)"
   ]
  },
  {
   "cell_type": "code",
   "execution_count": 61,
   "metadata": {},
   "outputs": [
    {
     "name": "stdout",
     "output_type": "stream",
     "text": [
      "Q3.2 83\n"
     ]
    }
   ],
   "source": [
    "print('Q3.2', df.shape[1])"
   ]
  },
  {
   "cell_type": "markdown",
   "metadata": {},
   "source": [
    "### Q3.3 Split the dataset\n",
    "Separate the target column (state) without stratification and with random state 42 and test size 0.2. How many of successful projects in train set?"
   ]
  },
  {
   "cell_type": "code",
   "execution_count": 62,
   "metadata": {},
   "outputs": [],
   "source": [
    "from sklearn.model_selection import train_test_split\n",
    "y_train, y_test = train_test_split(df['state'], test_size=0.2, random_state=42)"
   ]
  },
  {
   "cell_type": "code",
   "execution_count": 63,
   "metadata": {},
   "outputs": [
    {
     "name": "stdout",
     "output_type": "stream",
     "text": [
      "Q3.3 92488\n"
     ]
    }
   ],
   "source": [
    "print('Q3.3', y_train.value_counts()[1])"
   ]
  },
  {
   "cell_type": "markdown",
   "metadata": {},
   "source": [
    "### Q3.4 Scale the numeric columns with standard scaler\n",
    "What is max number in goal field after scaling?"
   ]
  },
  {
   "cell_type": "code",
   "execution_count": 64,
   "metadata": {},
   "outputs": [],
   "source": [
    "from sklearn.preprocessing import StandardScaler"
   ]
  },
  {
   "cell_type": "code",
   "execution_count": 65,
   "metadata": {},
   "outputs": [],
   "source": [
    "df.drop('state', inplace=True, axis=1)"
   ]
  },
  {
   "cell_type": "code",
   "execution_count": 66,
   "metadata": {},
   "outputs": [],
   "source": [
    "X_train, X_test = train_test_split(df, test_size=0.2, random_state=42)"
   ]
  },
  {
   "cell_type": "code",
   "execution_count": 67,
   "metadata": {},
   "outputs": [
    {
     "data": {
      "text/html": [
       "<div>\n",
       "<style scoped>\n",
       "    .dataframe tbody tr th:only-of-type {\n",
       "        vertical-align: middle;\n",
       "    }\n",
       "\n",
       "    .dataframe tbody tr th {\n",
       "        vertical-align: top;\n",
       "    }\n",
       "\n",
       "    .dataframe thead th {\n",
       "        text-align: right;\n",
       "    }\n",
       "</style>\n",
       "<table border=\"1\" class=\"dataframe\">\n",
       "  <thead>\n",
       "    <tr style=\"text-align: right;\">\n",
       "      <th></th>\n",
       "      <th>goal</th>\n",
       "      <th>launch_year</th>\n",
       "      <th>duration_days</th>\n",
       "      <th>name_length</th>\n",
       "      <th>currency_AUD</th>\n",
       "      <th>currency_CAD</th>\n",
       "      <th>currency_CHF</th>\n",
       "      <th>currency_DKK</th>\n",
       "      <th>currency_EUR</th>\n",
       "      <th>currency_GBP</th>\n",
       "      <th>...</th>\n",
       "      <th>main_category_Journalism</th>\n",
       "      <th>main_category_Music</th>\n",
       "      <th>main_category_Photography</th>\n",
       "      <th>main_category_Publishing</th>\n",
       "      <th>main_category_Technology</th>\n",
       "      <th>main_category_Theater</th>\n",
       "      <th>region_america</th>\n",
       "      <th>region_asia</th>\n",
       "      <th>region_europe</th>\n",
       "      <th>region_oceania</th>\n",
       "    </tr>\n",
       "    <tr>\n",
       "      <th>ID</th>\n",
       "      <th></th>\n",
       "      <th></th>\n",
       "      <th></th>\n",
       "      <th></th>\n",
       "      <th></th>\n",
       "      <th></th>\n",
       "      <th></th>\n",
       "      <th></th>\n",
       "      <th></th>\n",
       "      <th></th>\n",
       "      <th></th>\n",
       "      <th></th>\n",
       "      <th></th>\n",
       "      <th></th>\n",
       "      <th></th>\n",
       "      <th></th>\n",
       "      <th></th>\n",
       "      <th></th>\n",
       "      <th></th>\n",
       "      <th></th>\n",
       "      <th></th>\n",
       "    </tr>\n",
       "  </thead>\n",
       "  <tbody>\n",
       "    <tr>\n",
       "      <th>1000002330</th>\n",
       "      <td>1000.0</td>\n",
       "      <td>2015</td>\n",
       "      <td>58</td>\n",
       "      <td>31</td>\n",
       "      <td>0</td>\n",
       "      <td>0</td>\n",
       "      <td>0</td>\n",
       "      <td>0</td>\n",
       "      <td>0</td>\n",
       "      <td>1</td>\n",
       "      <td>...</td>\n",
       "      <td>0</td>\n",
       "      <td>0</td>\n",
       "      <td>0</td>\n",
       "      <td>1</td>\n",
       "      <td>0</td>\n",
       "      <td>0</td>\n",
       "      <td>0</td>\n",
       "      <td>0</td>\n",
       "      <td>1</td>\n",
       "      <td>0</td>\n",
       "    </tr>\n",
       "    <tr>\n",
       "      <th>1000003930</th>\n",
       "      <td>30000.0</td>\n",
       "      <td>2017</td>\n",
       "      <td>59</td>\n",
       "      <td>45</td>\n",
       "      <td>0</td>\n",
       "      <td>0</td>\n",
       "      <td>0</td>\n",
       "      <td>0</td>\n",
       "      <td>0</td>\n",
       "      <td>0</td>\n",
       "      <td>...</td>\n",
       "      <td>0</td>\n",
       "      <td>0</td>\n",
       "      <td>0</td>\n",
       "      <td>0</td>\n",
       "      <td>0</td>\n",
       "      <td>0</td>\n",
       "      <td>1</td>\n",
       "      <td>0</td>\n",
       "      <td>0</td>\n",
       "      <td>0</td>\n",
       "    </tr>\n",
       "    <tr>\n",
       "      <th>1000004038</th>\n",
       "      <td>45000.0</td>\n",
       "      <td>2013</td>\n",
       "      <td>44</td>\n",
       "      <td>14</td>\n",
       "      <td>0</td>\n",
       "      <td>0</td>\n",
       "      <td>0</td>\n",
       "      <td>0</td>\n",
       "      <td>0</td>\n",
       "      <td>0</td>\n",
       "      <td>...</td>\n",
       "      <td>0</td>\n",
       "      <td>0</td>\n",
       "      <td>0</td>\n",
       "      <td>0</td>\n",
       "      <td>0</td>\n",
       "      <td>0</td>\n",
       "      <td>1</td>\n",
       "      <td>0</td>\n",
       "      <td>0</td>\n",
       "      <td>0</td>\n",
       "    </tr>\n",
       "    <tr>\n",
       "      <th>1000007540</th>\n",
       "      <td>5000.0</td>\n",
       "      <td>2012</td>\n",
       "      <td>29</td>\n",
       "      <td>49</td>\n",
       "      <td>0</td>\n",
       "      <td>0</td>\n",
       "      <td>0</td>\n",
       "      <td>0</td>\n",
       "      <td>0</td>\n",
       "      <td>0</td>\n",
       "      <td>...</td>\n",
       "      <td>0</td>\n",
       "      <td>1</td>\n",
       "      <td>0</td>\n",
       "      <td>0</td>\n",
       "      <td>0</td>\n",
       "      <td>0</td>\n",
       "      <td>1</td>\n",
       "      <td>0</td>\n",
       "      <td>0</td>\n",
       "      <td>0</td>\n",
       "    </tr>\n",
       "    <tr>\n",
       "      <th>1000011046</th>\n",
       "      <td>19500.0</td>\n",
       "      <td>2015</td>\n",
       "      <td>55</td>\n",
       "      <td>58</td>\n",
       "      <td>0</td>\n",
       "      <td>0</td>\n",
       "      <td>0</td>\n",
       "      <td>0</td>\n",
       "      <td>0</td>\n",
       "      <td>0</td>\n",
       "      <td>...</td>\n",
       "      <td>0</td>\n",
       "      <td>0</td>\n",
       "      <td>0</td>\n",
       "      <td>0</td>\n",
       "      <td>0</td>\n",
       "      <td>0</td>\n",
       "      <td>1</td>\n",
       "      <td>0</td>\n",
       "      <td>0</td>\n",
       "      <td>0</td>\n",
       "    </tr>\n",
       "    <tr>\n",
       "      <th>...</th>\n",
       "      <td>...</td>\n",
       "      <td>...</td>\n",
       "      <td>...</td>\n",
       "      <td>...</td>\n",
       "      <td>...</td>\n",
       "      <td>...</td>\n",
       "      <td>...</td>\n",
       "      <td>...</td>\n",
       "      <td>...</td>\n",
       "      <td>...</td>\n",
       "      <td>...</td>\n",
       "      <td>...</td>\n",
       "      <td>...</td>\n",
       "      <td>...</td>\n",
       "      <td>...</td>\n",
       "      <td>...</td>\n",
       "      <td>...</td>\n",
       "      <td>...</td>\n",
       "      <td>...</td>\n",
       "      <td>...</td>\n",
       "      <td>...</td>\n",
       "    </tr>\n",
       "    <tr>\n",
       "      <th>999976400</th>\n",
       "      <td>50000.0</td>\n",
       "      <td>2014</td>\n",
       "      <td>29</td>\n",
       "      <td>49</td>\n",
       "      <td>0</td>\n",
       "      <td>0</td>\n",
       "      <td>0</td>\n",
       "      <td>0</td>\n",
       "      <td>0</td>\n",
       "      <td>0</td>\n",
       "      <td>...</td>\n",
       "      <td>0</td>\n",
       "      <td>0</td>\n",
       "      <td>0</td>\n",
       "      <td>0</td>\n",
       "      <td>0</td>\n",
       "      <td>0</td>\n",
       "      <td>1</td>\n",
       "      <td>0</td>\n",
       "      <td>0</td>\n",
       "      <td>0</td>\n",
       "    </tr>\n",
       "    <tr>\n",
       "      <th>999977640</th>\n",
       "      <td>1500.0</td>\n",
       "      <td>2011</td>\n",
       "      <td>26</td>\n",
       "      <td>9</td>\n",
       "      <td>0</td>\n",
       "      <td>0</td>\n",
       "      <td>0</td>\n",
       "      <td>0</td>\n",
       "      <td>0</td>\n",
       "      <td>0</td>\n",
       "      <td>...</td>\n",
       "      <td>0</td>\n",
       "      <td>0</td>\n",
       "      <td>0</td>\n",
       "      <td>0</td>\n",
       "      <td>0</td>\n",
       "      <td>0</td>\n",
       "      <td>1</td>\n",
       "      <td>0</td>\n",
       "      <td>0</td>\n",
       "      <td>0</td>\n",
       "    </tr>\n",
       "    <tr>\n",
       "      <th>999986353</th>\n",
       "      <td>15000.0</td>\n",
       "      <td>2010</td>\n",
       "      <td>45</td>\n",
       "      <td>71</td>\n",
       "      <td>0</td>\n",
       "      <td>0</td>\n",
       "      <td>0</td>\n",
       "      <td>0</td>\n",
       "      <td>0</td>\n",
       "      <td>0</td>\n",
       "      <td>...</td>\n",
       "      <td>0</td>\n",
       "      <td>0</td>\n",
       "      <td>0</td>\n",
       "      <td>0</td>\n",
       "      <td>0</td>\n",
       "      <td>0</td>\n",
       "      <td>1</td>\n",
       "      <td>0</td>\n",
       "      <td>0</td>\n",
       "      <td>0</td>\n",
       "    </tr>\n",
       "    <tr>\n",
       "      <th>999987933</th>\n",
       "      <td>15000.0</td>\n",
       "      <td>2016</td>\n",
       "      <td>30</td>\n",
       "      <td>24</td>\n",
       "      <td>0</td>\n",
       "      <td>0</td>\n",
       "      <td>0</td>\n",
       "      <td>0</td>\n",
       "      <td>0</td>\n",
       "      <td>0</td>\n",
       "      <td>...</td>\n",
       "      <td>0</td>\n",
       "      <td>0</td>\n",
       "      <td>0</td>\n",
       "      <td>0</td>\n",
       "      <td>1</td>\n",
       "      <td>0</td>\n",
       "      <td>1</td>\n",
       "      <td>0</td>\n",
       "      <td>0</td>\n",
       "      <td>0</td>\n",
       "    </tr>\n",
       "    <tr>\n",
       "      <th>999988282</th>\n",
       "      <td>2000.0</td>\n",
       "      <td>2011</td>\n",
       "      <td>27</td>\n",
       "      <td>33</td>\n",
       "      <td>0</td>\n",
       "      <td>0</td>\n",
       "      <td>0</td>\n",
       "      <td>0</td>\n",
       "      <td>0</td>\n",
       "      <td>0</td>\n",
       "      <td>...</td>\n",
       "      <td>0</td>\n",
       "      <td>0</td>\n",
       "      <td>0</td>\n",
       "      <td>0</td>\n",
       "      <td>0</td>\n",
       "      <td>0</td>\n",
       "      <td>1</td>\n",
       "      <td>0</td>\n",
       "      <td>0</td>\n",
       "      <td>0</td>\n",
       "    </tr>\n",
       "  </tbody>\n",
       "</table>\n",
       "<p>351804 rows × 82 columns</p>\n",
       "</div>"
      ],
      "text/plain": [
       "               goal  launch_year  duration_days  name_length  currency_AUD  \\\n",
       "ID                                                                           \n",
       "1000002330   1000.0         2015             58           31             0   \n",
       "1000003930  30000.0         2017             59           45             0   \n",
       "1000004038  45000.0         2013             44           14             0   \n",
       "1000007540   5000.0         2012             29           49             0   \n",
       "1000011046  19500.0         2015             55           58             0   \n",
       "...             ...          ...            ...          ...           ...   \n",
       "999976400   50000.0         2014             29           49             0   \n",
       "999977640    1500.0         2011             26            9             0   \n",
       "999986353   15000.0         2010             45           71             0   \n",
       "999987933   15000.0         2016             30           24             0   \n",
       "999988282    2000.0         2011             27           33             0   \n",
       "\n",
       "            currency_CAD  currency_CHF  currency_DKK  currency_EUR  \\\n",
       "ID                                                                   \n",
       "1000002330             0             0             0             0   \n",
       "1000003930             0             0             0             0   \n",
       "1000004038             0             0             0             0   \n",
       "1000007540             0             0             0             0   \n",
       "1000011046             0             0             0             0   \n",
       "...                  ...           ...           ...           ...   \n",
       "999976400              0             0             0             0   \n",
       "999977640              0             0             0             0   \n",
       "999986353              0             0             0             0   \n",
       "999987933              0             0             0             0   \n",
       "999988282              0             0             0             0   \n",
       "\n",
       "            currency_GBP  ...  main_category_Journalism  main_category_Music  \\\n",
       "ID                        ...                                                  \n",
       "1000002330             1  ...                         0                    0   \n",
       "1000003930             0  ...                         0                    0   \n",
       "1000004038             0  ...                         0                    0   \n",
       "1000007540             0  ...                         0                    1   \n",
       "1000011046             0  ...                         0                    0   \n",
       "...                  ...  ...                       ...                  ...   \n",
       "999976400              0  ...                         0                    0   \n",
       "999977640              0  ...                         0                    0   \n",
       "999986353              0  ...                         0                    0   \n",
       "999987933              0  ...                         0                    0   \n",
       "999988282              0  ...                         0                    0   \n",
       "\n",
       "            main_category_Photography  main_category_Publishing  \\\n",
       "ID                                                                \n",
       "1000002330                          0                         1   \n",
       "1000003930                          0                         0   \n",
       "1000004038                          0                         0   \n",
       "1000007540                          0                         0   \n",
       "1000011046                          0                         0   \n",
       "...                               ...                       ...   \n",
       "999976400                           0                         0   \n",
       "999977640                           0                         0   \n",
       "999986353                           0                         0   \n",
       "999987933                           0                         0   \n",
       "999988282                           0                         0   \n",
       "\n",
       "            main_category_Technology  main_category_Theater  region_america  \\\n",
       "ID                                                                            \n",
       "1000002330                         0                      0               0   \n",
       "1000003930                         0                      0               1   \n",
       "1000004038                         0                      0               1   \n",
       "1000007540                         0                      0               1   \n",
       "1000011046                         0                      0               1   \n",
       "...                              ...                    ...             ...   \n",
       "999976400                          0                      0               1   \n",
       "999977640                          0                      0               1   \n",
       "999986353                          0                      0               1   \n",
       "999987933                          1                      0               1   \n",
       "999988282                          0                      0               1   \n",
       "\n",
       "            region_asia  region_europe  region_oceania  \n",
       "ID                                                      \n",
       "1000002330            0              1               0  \n",
       "1000003930            0              0               0  \n",
       "1000004038            0              0               0  \n",
       "1000007540            0              0               0  \n",
       "1000011046            0              0               0  \n",
       "...                 ...            ...             ...  \n",
       "999976400             0              0               0  \n",
       "999977640             0              0               0  \n",
       "999986353             0              0               0  \n",
       "999987933             0              0               0  \n",
       "999988282             0              0               0  \n",
       "\n",
       "[351804 rows x 82 columns]"
      ]
     },
     "execution_count": 67,
     "metadata": {},
     "output_type": "execute_result"
    }
   ],
   "source": [
    "df"
   ]
  },
  {
   "cell_type": "code",
   "execution_count": 68,
   "metadata": {},
   "outputs": [],
   "source": [
    "numeric_columns = ['goal', 'name_length', 'launch_year' , 'duration_days']"
   ]
  },
  {
   "cell_type": "code",
   "execution_count": 69,
   "metadata": {},
   "outputs": [],
   "source": [
    "sc = StandardScaler()"
   ]
  },
  {
   "cell_type": "code",
   "execution_count": 70,
   "metadata": {},
   "outputs": [
    {
     "name": "stderr",
     "output_type": "stream",
     "text": [
      "D:\\conda\\lib\\site-packages\\pandas\\core\\indexing.py:966: SettingWithCopyWarning: \n",
      "A value is trying to be set on a copy of a slice from a DataFrame.\n",
      "Try using .loc[row_indexer,col_indexer] = value instead\n",
      "\n",
      "See the caveats in the documentation: https://pandas.pydata.org/pandas-docs/stable/user_guide/indexing.html#returning-a-view-versus-a-copy\n",
      "  self.obj[item] = s\n",
      "D:\\conda\\lib\\site-packages\\pandas\\core\\indexing.py:966: SettingWithCopyWarning: \n",
      "A value is trying to be set on a copy of a slice from a DataFrame.\n",
      "Try using .loc[row_indexer,col_indexer] = value instead\n",
      "\n",
      "See the caveats in the documentation: https://pandas.pydata.org/pandas-docs/stable/user_guide/indexing.html#returning-a-view-versus-a-copy\n",
      "  self.obj[item] = s\n"
     ]
    }
   ],
   "source": [
    "X_train.loc[:, numeric_columns] = sc.fit_transform(X_train[numeric_columns])\n",
    "X_test.loc[:, numeric_columns] = sc.transform(X_test[numeric_columns])"
   ]
  },
  {
   "cell_type": "code",
   "execution_count": 71,
   "metadata": {},
   "outputs": [
    {
     "name": "stdout",
     "output_type": "stream",
     "text": [
      "Q3.4 81.812 81.812\n"
     ]
    }
   ],
   "source": [
    "print('Q3.4', np.round(X_train.goal.max(), 3), np.round(X_test.goal.max(), 3))"
   ]
  },
  {
   "cell_type": "markdown",
   "metadata": {},
   "source": [
    "# Feature selection"
   ]
  },
  {
   "cell_type": "markdown",
   "metadata": {},
   "source": [
    "### Q4.1 Estimate feature importance by Anova\n",
    "What is the two most important features by anova with f classifier?"
   ]
  },
  {
   "cell_type": "code",
   "execution_count": 72,
   "metadata": {},
   "outputs": [],
   "source": [
    "y_train, y_test = y_train.values, y_test.values"
   ]
  },
  {
   "cell_type": "code",
   "execution_count": 73,
   "metadata": {},
   "outputs": [],
   "source": [
    "from sklearn.feature_selection import SelectKBest, f_classif\n",
    "fs = SelectKBest(score_func=f_classif, k=2)\n",
    "fs.fit(X_train, y_train)\n",
    "X_train_fs = fs.transform(X_train)\n",
    "X_test_fs = fs.transform(X_test)"
   ]
  },
  {
   "cell_type": "code",
   "execution_count": 74,
   "metadata": {},
   "outputs": [
    {
     "name": "stdout",
     "output_type": "stream",
     "text": [
      "Q4.1 ['main_category_Music', 'main_category_Technology']\n"
     ]
    }
   ],
   "source": [
    "cols = fs.get_support(indices=True)\n",
    "print('Q4.1', list(X_train.columns[cols]))"
   ]
  },
  {
   "cell_type": "markdown",
   "metadata": {},
   "source": [
    "------"
   ]
  },
  {
   "cell_type": "markdown",
   "metadata": {},
   "source": [
    "------"
   ]
  },
  {
   "cell_type": "markdown",
   "metadata": {},
   "source": [
    "## Build a model with logistic regression\n",
    "\n",
    "Use l2 penalty and search for optimal C in np.logspace(-2, 4, 7)."
   ]
  },
  {
   "cell_type": "code",
   "execution_count": 75,
   "metadata": {},
   "outputs": [],
   "source": [
    "from sklearn.linear_model import LogisticRegression\n",
    "from sklearn.model_selection import GridSearchCV\n",
    "from sklearn.model_selection import KFold\n",
    "\n",
    "cv = KFold(n_splits=5, shuffle=True, random_state=7)\n",
    "clf = LogisticRegression(max_iter=1000)\n",
    "params_regr = {'C':  np.logspace(-2, 4, 7)}\n",
    "regr = GridSearchCV(clf, params_regr, cv=cv)\n",
    "regr.fit(X_train, y_train)\n",
    "y_pred = regr.predict(X_test)"
   ]
  },
  {
   "cell_type": "markdown",
   "metadata": {},
   "source": [
    "### Q4.2 What is an optimal C for l2 regularization?"
   ]
  },
  {
   "cell_type": "code",
   "execution_count": 76,
   "metadata": {},
   "outputs": [
    {
     "name": "stdout",
     "output_type": "stream",
     "text": [
      "Q4.2 1000.0\n"
     ]
    }
   ],
   "source": [
    "print('Q4.2', regr.best_params_['C'])"
   ]
  },
  {
   "cell_type": "markdown",
   "metadata": {},
   "source": [
    "### Q4.3 What is the accuracy for this params?"
   ]
  },
  {
   "cell_type": "code",
   "execution_count": 78,
   "metadata": {},
   "outputs": [
    {
     "name": "stdout",
     "output_type": "stream",
     "text": [
      "Q4.3 0.701\n"
     ]
    }
   ],
   "source": [
    "from sklearn.metrics import accuracy_score\n",
    "y_pred = regr.best_estimator_.predict(X_test)\n",
    "print('Q4.3', np.round(accuracy_score(y_test,y_pred), 3))"
   ]
  },
  {
   "cell_type": "markdown",
   "metadata": {},
   "source": [
    "### Q4.4 What is the two most important features by logistic regression estimation?"
   ]
  },
  {
   "cell_type": "code",
   "execution_count": 79,
   "metadata": {},
   "outputs": [
    {
     "data": {
      "text/plain": [
       "0.701"
      ]
     },
     "execution_count": 79,
     "metadata": {},
     "output_type": "execute_result"
    }
   ],
   "source": [
    "clf = LogisticRegression(max_iter=1000, C=regr.best_params_['C'])\n",
    "clf.fit(X_train, y_train)\n",
    "y_pred = clf.predict(X_test)\n",
    "np.round(accuracy_score(y_pred, y_test),3)"
   ]
  },
  {
   "cell_type": "code",
   "execution_count": 80,
   "metadata": {},
   "outputs": [],
   "source": [
    "dict_with_coef = dict(zip(list(np.abs(clf.coef_[0])), list(X_train.columns)))\n",
    "top2 = sorted(dict_with_coef, reverse=True)[:2]"
   ]
  },
  {
   "cell_type": "code",
   "execution_count": 81,
   "metadata": {},
   "outputs": [
    {
     "name": "stdout",
     "output_type": "stream",
     "text": [
      "Q4.4 goal currency_JPY\n"
     ]
    }
   ],
   "source": [
    "print('Q4.4', dict_with_coef[top2[0]], dict_with_coef[top2[1]])"
   ]
  },
  {
   "cell_type": "markdown",
   "metadata": {},
   "source": [
    "### Q4.5 Build roc curve and calculate roc-auc score. What is the roc-auc score?"
   ]
  },
  {
   "cell_type": "code",
   "execution_count": 82,
   "metadata": {},
   "outputs": [
    {
     "name": "stdout",
     "output_type": "stream",
     "text": [
      "Q4.5 0.712\n"
     ]
    },
    {
     "data": {
      "image/png": "[encoded data removed]",
      "text/plain": [
       "<Figure size 432x288 with 1 Axes>"
      ]
     },
     "metadata": {
      "needs_background": "light"
     },
     "output_type": "display_data"
    }
   ],
   "source": [
    "from sklearn.metrics import roc_curve, roc_auc_score\n",
    "\n",
    "y_pred_prob = clf.predict_proba(X_test)[:,1]\n",
    "\n",
    "print('Q4.5', np.round(roc_auc_score(y_test, y_pred_prob), 3))\n",
    "fpr, tpr, _ = roc_curve(y_test, y_pred_prob)\n",
    "plt.plot(fpr, tpr)\n",
    "plt.title(\"ROC-AUC curve\")\n",
    "plt.show()"
   ]
  },
  {
   "cell_type": "markdown",
   "metadata": {},
   "source": [
    "\n",
    "------"
   ]
  },
  {
   "cell_type": "markdown",
   "metadata": {},
   "source": [
    "------"
   ]
  },
  {
   "cell_type": "markdown",
   "metadata": {},
   "source": [
    "## Build a random forest model\n",
    "Use random state 42, maximum depth from 2 to 15, and number of estimators in `[10, 20, 50, 100, 200]`"
   ]
  },
  {
   "cell_type": "markdown",
   "metadata": {},
   "source": [
    "### Q4.6 What is an optimal depth and number of trees?"
   ]
  },
  {
   "cell_type": "code",
   "execution_count": 86,
   "metadata": {},
   "outputs": [],
   "source": [
    "from sklearn.ensemble import RandomForestClassifier\n",
    "rf = RandomForestClassifier(random_state=42)\n",
    "cv = KFold(n_splits=3)\n",
    "rf_grid = {'max_depth': [2,10,15],\n",
    "              'n_estimators':[10, 20, 50, 100, 200]}\n",
    "\n",
    "rf_search = GridSearchCV(rf, rf_grid, cv=cv)\n",
    "\n",
    "rf_search.fit(X_train, y_train)\n",
    "y_pred = rf_search.predict(X_test)"
   ]
  },
  {
   "cell_type": "code",
   "execution_count": 88,
   "metadata": {},
   "outputs": [],
   "source": [
    "best_rf = RandomForestClassifier(random_state=42, max_depth = rf_search.best_params_['max_depth'], n_estimators = rf_search.best_params_['n_estimators'])\n",
    "best_rf.fit(X_train, y_train)\n",
    "y_pred = best_rf.predict(X_test)"
   ]
  },
  {
   "cell_type": "markdown",
   "metadata": {},
   "source": [
    "### Q4.7 What is the accuracy for this params?"
   ]
  },
  {
   "cell_type": "code",
   "execution_count": 89,
   "metadata": {},
   "outputs": [
    {
     "name": "stdout",
     "output_type": "stream",
     "text": [
      "Q4.7 0.7\n"
     ]
    }
   ],
   "source": [
    "print('Q4.7', np.round(accuracy_score(y_pred, y_test), 3))"
   ]
  },
  {
   "cell_type": "markdown",
   "metadata": {},
   "source": [
    "### Q4.8 Build precision-recall curve. What is the precision for recall 0.5?"
   ]
  },
  {
   "cell_type": "code",
   "execution_count": 90,
   "metadata": {},
   "outputs": [
    {
     "data": {
      "image/png": "[encoded data removed]",
      "text/plain": [
       "<Figure size 432x288 with 1 Axes>"
      ]
     },
     "metadata": {
      "needs_background": "light"
     },
     "output_type": "display_data"
    }
   ],
   "source": [
    "from sklearn.metrics import precision_recall_curve\n",
    "y_pred_prob = best_rf.predict_proba(X_test)[:,1]\n",
    "precisions, recalls, _ = precision_recall_curve(y_test, y_pred_prob)\n",
    "plt.plot(recalls, precisions)\n",
    "plt.ylabel(\"precision\")\n",
    "plt.xlabel(\"recall\")\n",
    "plt.title(\"Precision-recall curve\")\n",
    "plt.show()"
   ]
  },
  {
   "cell_type": "code",
   "execution_count": 91,
   "metadata": {},
   "outputs": [
    {
     "name": "stdout",
     "output_type": "stream",
     "text": [
      "less than 0.5 (array([39414, 39415, 39416, ..., 55970, 55971, 55972], dtype=int64),)\n",
      "more than 0.5 (array([    0,     1,     2, ..., 39411, 39412, 39413], dtype=int64),)\n",
      "0.3787394914464258 0.3787502157776627\n",
      "Q4.8 0.379\n"
     ]
    }
   ],
   "source": [
    "print('less than 0.5', np.where(recalls<0.5))\n",
    "\n",
    "print('more than 0.5', np.where(recalls>0.5))\n",
    "\n",
    "print(precisions[11288], precisions[11287])\n",
    "print('Q4.8', np.round(precisions[11288], 3))"
   ]
  },
  {
   "cell_type": "markdown",
   "metadata": {},
   "source": [
    "### Q4.9 What is the two most important features by random forest?"
   ]
  },
  {
   "cell_type": "code",
   "execution_count": 92,
   "metadata": {},
   "outputs": [
    {
     "name": "stdout",
     "output_type": "stream",
     "text": [
      "Q4.9 [('goal', 0.29232958653271784), ('duration_days', 0.12043415551919265)]\n"
     ]
    }
   ],
   "source": [
    "weights_tree = dict(zip(X_train.columns.values, np.abs(best_rf.feature_importances_)))\n",
    "print('Q4.9', sorted(weights_tree.items(), key=lambda x: x[1], reverse = True)[:2])"
   ]
  },
  {
   "cell_type": "markdown",
   "metadata": {},
   "source": [
    "------"
   ]
  },
  {
   "cell_type": "markdown",
   "metadata": {},
   "source": [
    "------"
   ]
  },
  {
   "cell_type": "markdown",
   "metadata": {},
   "source": [
    "# Build the stronger model"
   ]
  },
  {
   "cell_type": "markdown",
   "metadata": {},
   "source": [
    "### Q5.1 Generate two (or more) meaningfull features"
   ]
  },
  {
   "cell_type": "code",
   "execution_count": 101,
   "metadata": {},
   "outputs": [],
   "source": [
    "# add features 'launch_month','launch_day'\n",
    "# add features 'country_popularity'\n",
    "new_features = boosting_df[['country_popularity', 'launch_month', 'launch_day']]"
   ]
  },
  {
   "cell_type": "code",
   "execution_count": 107,
   "metadata": {},
   "outputs": [
    {
     "data": {
      "text/html": [
       "<div>\n",
       "<style scoped>\n",
       "    .dataframe tbody tr th:only-of-type {\n",
       "        vertical-align: middle;\n",
       "    }\n",
       "\n",
       "    .dataframe tbody tr th {\n",
       "        vertical-align: top;\n",
       "    }\n",
       "\n",
       "    .dataframe thead th {\n",
       "        text-align: right;\n",
       "    }\n",
       "</style>\n",
       "<table border=\"1\" class=\"dataframe\">\n",
       "  <thead>\n",
       "    <tr style=\"text-align: right;\">\n",
       "      <th></th>\n",
       "      <th>country_popularity</th>\n",
       "      <th>launch_month</th>\n",
       "      <th>launch_day</th>\n",
       "    </tr>\n",
       "    <tr>\n",
       "      <th>ID</th>\n",
       "      <th></th>\n",
       "      <th></th>\n",
       "      <th></th>\n",
       "    </tr>\n",
       "  </thead>\n",
       "  <tbody>\n",
       "    <tr>\n",
       "      <th>1000002330</th>\n",
       "      <td>0.143137</td>\n",
       "      <td>8</td>\n",
       "      <td>11</td>\n",
       "    </tr>\n",
       "    <tr>\n",
       "      <th>1000003930</th>\n",
       "      <td>0.828981</td>\n",
       "      <td>9</td>\n",
       "      <td>2</td>\n",
       "    </tr>\n",
       "    <tr>\n",
       "      <th>1000004038</th>\n",
       "      <td>0.828981</td>\n",
       "      <td>1</td>\n",
       "      <td>12</td>\n",
       "    </tr>\n",
       "    <tr>\n",
       "      <th>1000007540</th>\n",
       "      <td>0.828981</td>\n",
       "      <td>3</td>\n",
       "      <td>17</td>\n",
       "    </tr>\n",
       "    <tr>\n",
       "      <th>1000011046</th>\n",
       "      <td>0.828981</td>\n",
       "      <td>7</td>\n",
       "      <td>4</td>\n",
       "    </tr>\n",
       "    <tr>\n",
       "      <th>...</th>\n",
       "      <td>...</td>\n",
       "      <td>...</td>\n",
       "      <td>...</td>\n",
       "    </tr>\n",
       "    <tr>\n",
       "      <th>999976400</th>\n",
       "      <td>0.828981</td>\n",
       "      <td>9</td>\n",
       "      <td>17</td>\n",
       "    </tr>\n",
       "    <tr>\n",
       "      <th>999977640</th>\n",
       "      <td>0.828981</td>\n",
       "      <td>6</td>\n",
       "      <td>22</td>\n",
       "    </tr>\n",
       "    <tr>\n",
       "      <th>999986353</th>\n",
       "      <td>0.828981</td>\n",
       "      <td>7</td>\n",
       "      <td>1</td>\n",
       "    </tr>\n",
       "    <tr>\n",
       "      <th>999987933</th>\n",
       "      <td>0.828981</td>\n",
       "      <td>1</td>\n",
       "      <td>13</td>\n",
       "    </tr>\n",
       "    <tr>\n",
       "      <th>999988282</th>\n",
       "      <td>0.828981</td>\n",
       "      <td>7</td>\n",
       "      <td>19</td>\n",
       "    </tr>\n",
       "  </tbody>\n",
       "</table>\n",
       "<p>351804 rows × 3 columns</p>\n",
       "</div>"
      ],
      "text/plain": [
       "            country_popularity  launch_month  launch_day\n",
       "ID                                                      \n",
       "1000002330            0.143137             8          11\n",
       "1000003930            0.828981             9           2\n",
       "1000004038            0.828981             1          12\n",
       "1000007540            0.828981             3          17\n",
       "1000011046            0.828981             7           4\n",
       "...                        ...           ...         ...\n",
       "999976400             0.828981             9          17\n",
       "999977640             0.828981             6          22\n",
       "999986353             0.828981             7           1\n",
       "999987933             0.828981             1          13\n",
       "999988282             0.828981             7          19\n",
       "\n",
       "[351804 rows x 3 columns]"
      ]
     },
     "execution_count": 107,
     "metadata": {},
     "output_type": "execute_result"
    }
   ],
   "source": [
    "new_features"
   ]
  },
  {
   "cell_type": "code",
   "execution_count": 108,
   "metadata": {},
   "outputs": [
    {
     "data": {
      "text/html": [
       "<div>\n",
       "<style scoped>\n",
       "    .dataframe tbody tr th:only-of-type {\n",
       "        vertical-align: middle;\n",
       "    }\n",
       "\n",
       "    .dataframe tbody tr th {\n",
       "        vertical-align: top;\n",
       "    }\n",
       "\n",
       "    .dataframe thead th {\n",
       "        text-align: right;\n",
       "    }\n",
       "</style>\n",
       "<table border=\"1\" class=\"dataframe\">\n",
       "  <thead>\n",
       "    <tr style=\"text-align: right;\">\n",
       "      <th></th>\n",
       "      <th>goal</th>\n",
       "      <th>launch_year</th>\n",
       "      <th>duration_days</th>\n",
       "      <th>name_length</th>\n",
       "      <th>currency_AUD</th>\n",
       "      <th>currency_CAD</th>\n",
       "      <th>currency_CHF</th>\n",
       "      <th>currency_DKK</th>\n",
       "      <th>currency_EUR</th>\n",
       "      <th>currency_GBP</th>\n",
       "      <th>...</th>\n",
       "      <th>main_category_Journalism</th>\n",
       "      <th>main_category_Music</th>\n",
       "      <th>main_category_Photography</th>\n",
       "      <th>main_category_Publishing</th>\n",
       "      <th>main_category_Technology</th>\n",
       "      <th>main_category_Theater</th>\n",
       "      <th>region_america</th>\n",
       "      <th>region_asia</th>\n",
       "      <th>region_europe</th>\n",
       "      <th>region_oceania</th>\n",
       "    </tr>\n",
       "    <tr>\n",
       "      <th>ID</th>\n",
       "      <th></th>\n",
       "      <th></th>\n",
       "      <th></th>\n",
       "      <th></th>\n",
       "      <th></th>\n",
       "      <th></th>\n",
       "      <th></th>\n",
       "      <th></th>\n",
       "      <th></th>\n",
       "      <th></th>\n",
       "      <th></th>\n",
       "      <th></th>\n",
       "      <th></th>\n",
       "      <th></th>\n",
       "      <th></th>\n",
       "      <th></th>\n",
       "      <th></th>\n",
       "      <th></th>\n",
       "      <th></th>\n",
       "      <th></th>\n",
       "      <th></th>\n",
       "    </tr>\n",
       "  </thead>\n",
       "  <tbody>\n",
       "    <tr>\n",
       "      <th>1000002330</th>\n",
       "      <td>1000.0</td>\n",
       "      <td>2015</td>\n",
       "      <td>58</td>\n",
       "      <td>31</td>\n",
       "      <td>0</td>\n",
       "      <td>0</td>\n",
       "      <td>0</td>\n",
       "      <td>0</td>\n",
       "      <td>0</td>\n",
       "      <td>1</td>\n",
       "      <td>...</td>\n",
       "      <td>0</td>\n",
       "      <td>0</td>\n",
       "      <td>0</td>\n",
       "      <td>1</td>\n",
       "      <td>0</td>\n",
       "      <td>0</td>\n",
       "      <td>0</td>\n",
       "      <td>0</td>\n",
       "      <td>1</td>\n",
       "      <td>0</td>\n",
       "    </tr>\n",
       "    <tr>\n",
       "      <th>1000003930</th>\n",
       "      <td>30000.0</td>\n",
       "      <td>2017</td>\n",
       "      <td>59</td>\n",
       "      <td>45</td>\n",
       "      <td>0</td>\n",
       "      <td>0</td>\n",
       "      <td>0</td>\n",
       "      <td>0</td>\n",
       "      <td>0</td>\n",
       "      <td>0</td>\n",
       "      <td>...</td>\n",
       "      <td>0</td>\n",
       "      <td>0</td>\n",
       "      <td>0</td>\n",
       "      <td>0</td>\n",
       "      <td>0</td>\n",
       "      <td>0</td>\n",
       "      <td>1</td>\n",
       "      <td>0</td>\n",
       "      <td>0</td>\n",
       "      <td>0</td>\n",
       "    </tr>\n",
       "    <tr>\n",
       "      <th>1000004038</th>\n",
       "      <td>45000.0</td>\n",
       "      <td>2013</td>\n",
       "      <td>44</td>\n",
       "      <td>14</td>\n",
       "      <td>0</td>\n",
       "      <td>0</td>\n",
       "      <td>0</td>\n",
       "      <td>0</td>\n",
       "      <td>0</td>\n",
       "      <td>0</td>\n",
       "      <td>...</td>\n",
       "      <td>0</td>\n",
       "      <td>0</td>\n",
       "      <td>0</td>\n",
       "      <td>0</td>\n",
       "      <td>0</td>\n",
       "      <td>0</td>\n",
       "      <td>1</td>\n",
       "      <td>0</td>\n",
       "      <td>0</td>\n",
       "      <td>0</td>\n",
       "    </tr>\n",
       "    <tr>\n",
       "      <th>1000007540</th>\n",
       "      <td>5000.0</td>\n",
       "      <td>2012</td>\n",
       "      <td>29</td>\n",
       "      <td>49</td>\n",
       "      <td>0</td>\n",
       "      <td>0</td>\n",
       "      <td>0</td>\n",
       "      <td>0</td>\n",
       "      <td>0</td>\n",
       "      <td>0</td>\n",
       "      <td>...</td>\n",
       "      <td>0</td>\n",
       "      <td>1</td>\n",
       "      <td>0</td>\n",
       "      <td>0</td>\n",
       "      <td>0</td>\n",
       "      <td>0</td>\n",
       "      <td>1</td>\n",
       "      <td>0</td>\n",
       "      <td>0</td>\n",
       "      <td>0</td>\n",
       "    </tr>\n",
       "    <tr>\n",
       "      <th>1000011046</th>\n",
       "      <td>19500.0</td>\n",
       "      <td>2015</td>\n",
       "      <td>55</td>\n",
       "      <td>58</td>\n",
       "      <td>0</td>\n",
       "      <td>0</td>\n",
       "      <td>0</td>\n",
       "      <td>0</td>\n",
       "      <td>0</td>\n",
       "      <td>0</td>\n",
       "      <td>...</td>\n",
       "      <td>0</td>\n",
       "      <td>0</td>\n",
       "      <td>0</td>\n",
       "      <td>0</td>\n",
       "      <td>0</td>\n",
       "      <td>0</td>\n",
       "      <td>1</td>\n",
       "      <td>0</td>\n",
       "      <td>0</td>\n",
       "      <td>0</td>\n",
       "    </tr>\n",
       "    <tr>\n",
       "      <th>...</th>\n",
       "      <td>...</td>\n",
       "      <td>...</td>\n",
       "      <td>...</td>\n",
       "      <td>...</td>\n",
       "      <td>...</td>\n",
       "      <td>...</td>\n",
       "      <td>...</td>\n",
       "      <td>...</td>\n",
       "      <td>...</td>\n",
       "      <td>...</td>\n",
       "      <td>...</td>\n",
       "      <td>...</td>\n",
       "      <td>...</td>\n",
       "      <td>...</td>\n",
       "      <td>...</td>\n",
       "      <td>...</td>\n",
       "      <td>...</td>\n",
       "      <td>...</td>\n",
       "      <td>...</td>\n",
       "      <td>...</td>\n",
       "      <td>...</td>\n",
       "    </tr>\n",
       "    <tr>\n",
       "      <th>999976400</th>\n",
       "      <td>50000.0</td>\n",
       "      <td>2014</td>\n",
       "      <td>29</td>\n",
       "      <td>49</td>\n",
       "      <td>0</td>\n",
       "      <td>0</td>\n",
       "      <td>0</td>\n",
       "      <td>0</td>\n",
       "      <td>0</td>\n",
       "      <td>0</td>\n",
       "      <td>...</td>\n",
       "      <td>0</td>\n",
       "      <td>0</td>\n",
       "      <td>0</td>\n",
       "      <td>0</td>\n",
       "      <td>0</td>\n",
       "      <td>0</td>\n",
       "      <td>1</td>\n",
       "      <td>0</td>\n",
       "      <td>0</td>\n",
       "      <td>0</td>\n",
       "    </tr>\n",
       "    <tr>\n",
       "      <th>999977640</th>\n",
       "      <td>1500.0</td>\n",
       "      <td>2011</td>\n",
       "      <td>26</td>\n",
       "      <td>9</td>\n",
       "      <td>0</td>\n",
       "      <td>0</td>\n",
       "      <td>0</td>\n",
       "      <td>0</td>\n",
       "      <td>0</td>\n",
       "      <td>0</td>\n",
       "      <td>...</td>\n",
       "      <td>0</td>\n",
       "      <td>0</td>\n",
       "      <td>0</td>\n",
       "      <td>0</td>\n",
       "      <td>0</td>\n",
       "      <td>0</td>\n",
       "      <td>1</td>\n",
       "      <td>0</td>\n",
       "      <td>0</td>\n",
       "      <td>0</td>\n",
       "    </tr>\n",
       "    <tr>\n",
       "      <th>999986353</th>\n",
       "      <td>15000.0</td>\n",
       "      <td>2010</td>\n",
       "      <td>45</td>\n",
       "      <td>71</td>\n",
       "      <td>0</td>\n",
       "      <td>0</td>\n",
       "      <td>0</td>\n",
       "      <td>0</td>\n",
       "      <td>0</td>\n",
       "      <td>0</td>\n",
       "      <td>...</td>\n",
       "      <td>0</td>\n",
       "      <td>0</td>\n",
       "      <td>0</td>\n",
       "      <td>0</td>\n",
       "      <td>0</td>\n",
       "      <td>0</td>\n",
       "      <td>1</td>\n",
       "      <td>0</td>\n",
       "      <td>0</td>\n",
       "      <td>0</td>\n",
       "    </tr>\n",
       "    <tr>\n",
       "      <th>999987933</th>\n",
       "      <td>15000.0</td>\n",
       "      <td>2016</td>\n",
       "      <td>30</td>\n",
       "      <td>24</td>\n",
       "      <td>0</td>\n",
       "      <td>0</td>\n",
       "      <td>0</td>\n",
       "      <td>0</td>\n",
       "      <td>0</td>\n",
       "      <td>0</td>\n",
       "      <td>...</td>\n",
       "      <td>0</td>\n",
       "      <td>0</td>\n",
       "      <td>0</td>\n",
       "      <td>0</td>\n",
       "      <td>1</td>\n",
       "      <td>0</td>\n",
       "      <td>1</td>\n",
       "      <td>0</td>\n",
       "      <td>0</td>\n",
       "      <td>0</td>\n",
       "    </tr>\n",
       "    <tr>\n",
       "      <th>999988282</th>\n",
       "      <td>2000.0</td>\n",
       "      <td>2011</td>\n",
       "      <td>27</td>\n",
       "      <td>33</td>\n",
       "      <td>0</td>\n",
       "      <td>0</td>\n",
       "      <td>0</td>\n",
       "      <td>0</td>\n",
       "      <td>0</td>\n",
       "      <td>0</td>\n",
       "      <td>...</td>\n",
       "      <td>0</td>\n",
       "      <td>0</td>\n",
       "      <td>0</td>\n",
       "      <td>0</td>\n",
       "      <td>0</td>\n",
       "      <td>0</td>\n",
       "      <td>1</td>\n",
       "      <td>0</td>\n",
       "      <td>0</td>\n",
       "      <td>0</td>\n",
       "    </tr>\n",
       "  </tbody>\n",
       "</table>\n",
       "<p>351804 rows × 82 columns</p>\n",
       "</div>"
      ],
      "text/plain": [
       "               goal  launch_year  duration_days  name_length  currency_AUD  \\\n",
       "ID                                                                           \n",
       "1000002330   1000.0         2015             58           31             0   \n",
       "1000003930  30000.0         2017             59           45             0   \n",
       "1000004038  45000.0         2013             44           14             0   \n",
       "1000007540   5000.0         2012             29           49             0   \n",
       "1000011046  19500.0         2015             55           58             0   \n",
       "...             ...          ...            ...          ...           ...   \n",
       "999976400   50000.0         2014             29           49             0   \n",
       "999977640    1500.0         2011             26            9             0   \n",
       "999986353   15000.0         2010             45           71             0   \n",
       "999987933   15000.0         2016             30           24             0   \n",
       "999988282    2000.0         2011             27           33             0   \n",
       "\n",
       "            currency_CAD  currency_CHF  currency_DKK  currency_EUR  \\\n",
       "ID                                                                   \n",
       "1000002330             0             0             0             0   \n",
       "1000003930             0             0             0             0   \n",
       "1000004038             0             0             0             0   \n",
       "1000007540             0             0             0             0   \n",
       "1000011046             0             0             0             0   \n",
       "...                  ...           ...           ...           ...   \n",
       "999976400              0             0             0             0   \n",
       "999977640              0             0             0             0   \n",
       "999986353              0             0             0             0   \n",
       "999987933              0             0             0             0   \n",
       "999988282              0             0             0             0   \n",
       "\n",
       "            currency_GBP  ...  main_category_Journalism  main_category_Music  \\\n",
       "ID                        ...                                                  \n",
       "1000002330             1  ...                         0                    0   \n",
       "1000003930             0  ...                         0                    0   \n",
       "1000004038             0  ...                         0                    0   \n",
       "1000007540             0  ...                         0                    1   \n",
       "1000011046             0  ...                         0                    0   \n",
       "...                  ...  ...                       ...                  ...   \n",
       "999976400              0  ...                         0                    0   \n",
       "999977640              0  ...                         0                    0   \n",
       "999986353              0  ...                         0                    0   \n",
       "999987933              0  ...                         0                    0   \n",
       "999988282              0  ...                         0                    0   \n",
       "\n",
       "            main_category_Photography  main_category_Publishing  \\\n",
       "ID                                                                \n",
       "1000002330                          0                         1   \n",
       "1000003930                          0                         0   \n",
       "1000004038                          0                         0   \n",
       "1000007540                          0                         0   \n",
       "1000011046                          0                         0   \n",
       "...                               ...                       ...   \n",
       "999976400                           0                         0   \n",
       "999977640                           0                         0   \n",
       "999986353                           0                         0   \n",
       "999987933                           0                         0   \n",
       "999988282                           0                         0   \n",
       "\n",
       "            main_category_Technology  main_category_Theater  region_america  \\\n",
       "ID                                                                            \n",
       "1000002330                         0                      0               0   \n",
       "1000003930                         0                      0               1   \n",
       "1000004038                         0                      0               1   \n",
       "1000007540                         0                      0               1   \n",
       "1000011046                         0                      0               1   \n",
       "...                              ...                    ...             ...   \n",
       "999976400                          0                      0               1   \n",
       "999977640                          0                      0               1   \n",
       "999986353                          0                      0               1   \n",
       "999987933                          1                      0               1   \n",
       "999988282                          0                      0               1   \n",
       "\n",
       "            region_asia  region_europe  region_oceania  \n",
       "ID                                                      \n",
       "1000002330            0              1               0  \n",
       "1000003930            0              0               0  \n",
       "1000004038            0              0               0  \n",
       "1000007540            0              0               0  \n",
       "1000011046            0              0               0  \n",
       "...                 ...            ...             ...  \n",
       "999976400             0              0               0  \n",
       "999977640             0              0               0  \n",
       "999986353             0              0               0  \n",
       "999987933             0              0               0  \n",
       "999988282             0              0               0  \n",
       "\n",
       "[351804 rows x 82 columns]"
      ]
     },
     "execution_count": 108,
     "metadata": {},
     "output_type": "execute_result"
    }
   ],
   "source": [
    "df"
   ]
  },
  {
   "cell_type": "code",
   "execution_count": 109,
   "metadata": {},
   "outputs": [],
   "source": [
    "# concatenate with added earlier features\n",
    "frames = [df, new_features]\n",
    "gb = pd.concat(frames, axis=1)"
   ]
  },
  {
   "cell_type": "code",
   "execution_count": 110,
   "metadata": {},
   "outputs": [
    {
     "data": {
      "text/html": [
       "<div>\n",
       "<style scoped>\n",
       "    .dataframe tbody tr th:only-of-type {\n",
       "        vertical-align: middle;\n",
       "    }\n",
       "\n",
       "    .dataframe tbody tr th {\n",
       "        vertical-align: top;\n",
       "    }\n",
       "\n",
       "    .dataframe thead th {\n",
       "        text-align: right;\n",
       "    }\n",
       "</style>\n",
       "<table border=\"1\" class=\"dataframe\">\n",
       "  <thead>\n",
       "    <tr style=\"text-align: right;\">\n",
       "      <th></th>\n",
       "      <th>goal</th>\n",
       "      <th>launch_year</th>\n",
       "      <th>duration_days</th>\n",
       "      <th>name_length</th>\n",
       "      <th>currency_AUD</th>\n",
       "      <th>currency_CAD</th>\n",
       "      <th>currency_CHF</th>\n",
       "      <th>currency_DKK</th>\n",
       "      <th>currency_EUR</th>\n",
       "      <th>currency_GBP</th>\n",
       "      <th>...</th>\n",
       "      <th>main_category_Publishing</th>\n",
       "      <th>main_category_Technology</th>\n",
       "      <th>main_category_Theater</th>\n",
       "      <th>region_america</th>\n",
       "      <th>region_asia</th>\n",
       "      <th>region_europe</th>\n",
       "      <th>region_oceania</th>\n",
       "      <th>country_popularity</th>\n",
       "      <th>launch_month</th>\n",
       "      <th>launch_day</th>\n",
       "    </tr>\n",
       "    <tr>\n",
       "      <th>ID</th>\n",
       "      <th></th>\n",
       "      <th></th>\n",
       "      <th></th>\n",
       "      <th></th>\n",
       "      <th></th>\n",
       "      <th></th>\n",
       "      <th></th>\n",
       "      <th></th>\n",
       "      <th></th>\n",
       "      <th></th>\n",
       "      <th></th>\n",
       "      <th></th>\n",
       "      <th></th>\n",
       "      <th></th>\n",
       "      <th></th>\n",
       "      <th></th>\n",
       "      <th></th>\n",
       "      <th></th>\n",
       "      <th></th>\n",
       "      <th></th>\n",
       "      <th></th>\n",
       "    </tr>\n",
       "  </thead>\n",
       "  <tbody>\n",
       "    <tr>\n",
       "      <th>1000002330</th>\n",
       "      <td>1000.0</td>\n",
       "      <td>2015</td>\n",
       "      <td>58</td>\n",
       "      <td>31</td>\n",
       "      <td>0</td>\n",
       "      <td>0</td>\n",
       "      <td>0</td>\n",
       "      <td>0</td>\n",
       "      <td>0</td>\n",
       "      <td>1</td>\n",
       "      <td>...</td>\n",
       "      <td>1</td>\n",
       "      <td>0</td>\n",
       "      <td>0</td>\n",
       "      <td>0</td>\n",
       "      <td>0</td>\n",
       "      <td>1</td>\n",
       "      <td>0</td>\n",
       "      <td>0.143137</td>\n",
       "      <td>8</td>\n",
       "      <td>11</td>\n",
       "    </tr>\n",
       "    <tr>\n",
       "      <th>1000003930</th>\n",
       "      <td>30000.0</td>\n",
       "      <td>2017</td>\n",
       "      <td>59</td>\n",
       "      <td>45</td>\n",
       "      <td>0</td>\n",
       "      <td>0</td>\n",
       "      <td>0</td>\n",
       "      <td>0</td>\n",
       "      <td>0</td>\n",
       "      <td>0</td>\n",
       "      <td>...</td>\n",
       "      <td>0</td>\n",
       "      <td>0</td>\n",
       "      <td>0</td>\n",
       "      <td>1</td>\n",
       "      <td>0</td>\n",
       "      <td>0</td>\n",
       "      <td>0</td>\n",
       "      <td>0.828981</td>\n",
       "      <td>9</td>\n",
       "      <td>2</td>\n",
       "    </tr>\n",
       "    <tr>\n",
       "      <th>1000004038</th>\n",
       "      <td>45000.0</td>\n",
       "      <td>2013</td>\n",
       "      <td>44</td>\n",
       "      <td>14</td>\n",
       "      <td>0</td>\n",
       "      <td>0</td>\n",
       "      <td>0</td>\n",
       "      <td>0</td>\n",
       "      <td>0</td>\n",
       "      <td>0</td>\n",
       "      <td>...</td>\n",
       "      <td>0</td>\n",
       "      <td>0</td>\n",
       "      <td>0</td>\n",
       "      <td>1</td>\n",
       "      <td>0</td>\n",
       "      <td>0</td>\n",
       "      <td>0</td>\n",
       "      <td>0.828981</td>\n",
       "      <td>1</td>\n",
       "      <td>12</td>\n",
       "    </tr>\n",
       "    <tr>\n",
       "      <th>1000007540</th>\n",
       "      <td>5000.0</td>\n",
       "      <td>2012</td>\n",
       "      <td>29</td>\n",
       "      <td>49</td>\n",
       "      <td>0</td>\n",
       "      <td>0</td>\n",
       "      <td>0</td>\n",
       "      <td>0</td>\n",
       "      <td>0</td>\n",
       "      <td>0</td>\n",
       "      <td>...</td>\n",
       "      <td>0</td>\n",
       "      <td>0</td>\n",
       "      <td>0</td>\n",
       "      <td>1</td>\n",
       "      <td>0</td>\n",
       "      <td>0</td>\n",
       "      <td>0</td>\n",
       "      <td>0.828981</td>\n",
       "      <td>3</td>\n",
       "      <td>17</td>\n",
       "    </tr>\n",
       "    <tr>\n",
       "      <th>1000011046</th>\n",
       "      <td>19500.0</td>\n",
       "      <td>2015</td>\n",
       "      <td>55</td>\n",
       "      <td>58</td>\n",
       "      <td>0</td>\n",
       "      <td>0</td>\n",
       "      <td>0</td>\n",
       "      <td>0</td>\n",
       "      <td>0</td>\n",
       "      <td>0</td>\n",
       "      <td>...</td>\n",
       "      <td>0</td>\n",
       "      <td>0</td>\n",
       "      <td>0</td>\n",
       "      <td>1</td>\n",
       "      <td>0</td>\n",
       "      <td>0</td>\n",
       "      <td>0</td>\n",
       "      <td>0.828981</td>\n",
       "      <td>7</td>\n",
       "      <td>4</td>\n",
       "    </tr>\n",
       "    <tr>\n",
       "      <th>...</th>\n",
       "      <td>...</td>\n",
       "      <td>...</td>\n",
       "      <td>...</td>\n",
       "      <td>...</td>\n",
       "      <td>...</td>\n",
       "      <td>...</td>\n",
       "      <td>...</td>\n",
       "      <td>...</td>\n",
       "      <td>...</td>\n",
       "      <td>...</td>\n",
       "      <td>...</td>\n",
       "      <td>...</td>\n",
       "      <td>...</td>\n",
       "      <td>...</td>\n",
       "      <td>...</td>\n",
       "      <td>...</td>\n",
       "      <td>...</td>\n",
       "      <td>...</td>\n",
       "      <td>...</td>\n",
       "      <td>...</td>\n",
       "      <td>...</td>\n",
       "    </tr>\n",
       "    <tr>\n",
       "      <th>999976400</th>\n",
       "      <td>50000.0</td>\n",
       "      <td>2014</td>\n",
       "      <td>29</td>\n",
       "      <td>49</td>\n",
       "      <td>0</td>\n",
       "      <td>0</td>\n",
       "      <td>0</td>\n",
       "      <td>0</td>\n",
       "      <td>0</td>\n",
       "      <td>0</td>\n",
       "      <td>...</td>\n",
       "      <td>0</td>\n",
       "      <td>0</td>\n",
       "      <td>0</td>\n",
       "      <td>1</td>\n",
       "      <td>0</td>\n",
       "      <td>0</td>\n",
       "      <td>0</td>\n",
       "      <td>0.828981</td>\n",
       "      <td>9</td>\n",
       "      <td>17</td>\n",
       "    </tr>\n",
       "    <tr>\n",
       "      <th>999977640</th>\n",
       "      <td>1500.0</td>\n",
       "      <td>2011</td>\n",
       "      <td>26</td>\n",
       "      <td>9</td>\n",
       "      <td>0</td>\n",
       "      <td>0</td>\n",
       "      <td>0</td>\n",
       "      <td>0</td>\n",
       "      <td>0</td>\n",
       "      <td>0</td>\n",
       "      <td>...</td>\n",
       "      <td>0</td>\n",
       "      <td>0</td>\n",
       "      <td>0</td>\n",
       "      <td>1</td>\n",
       "      <td>0</td>\n",
       "      <td>0</td>\n",
       "      <td>0</td>\n",
       "      <td>0.828981</td>\n",
       "      <td>6</td>\n",
       "      <td>22</td>\n",
       "    </tr>\n",
       "    <tr>\n",
       "      <th>999986353</th>\n",
       "      <td>15000.0</td>\n",
       "      <td>2010</td>\n",
       "      <td>45</td>\n",
       "      <td>71</td>\n",
       "      <td>0</td>\n",
       "      <td>0</td>\n",
       "      <td>0</td>\n",
       "      <td>0</td>\n",
       "      <td>0</td>\n",
       "      <td>0</td>\n",
       "      <td>...</td>\n",
       "      <td>0</td>\n",
       "      <td>0</td>\n",
       "      <td>0</td>\n",
       "      <td>1</td>\n",
       "      <td>0</td>\n",
       "      <td>0</td>\n",
       "      <td>0</td>\n",
       "      <td>0.828981</td>\n",
       "      <td>7</td>\n",
       "      <td>1</td>\n",
       "    </tr>\n",
       "    <tr>\n",
       "      <th>999987933</th>\n",
       "      <td>15000.0</td>\n",
       "      <td>2016</td>\n",
       "      <td>30</td>\n",
       "      <td>24</td>\n",
       "      <td>0</td>\n",
       "      <td>0</td>\n",
       "      <td>0</td>\n",
       "      <td>0</td>\n",
       "      <td>0</td>\n",
       "      <td>0</td>\n",
       "      <td>...</td>\n",
       "      <td>0</td>\n",
       "      <td>1</td>\n",
       "      <td>0</td>\n",
       "      <td>1</td>\n",
       "      <td>0</td>\n",
       "      <td>0</td>\n",
       "      <td>0</td>\n",
       "      <td>0.828981</td>\n",
       "      <td>1</td>\n",
       "      <td>13</td>\n",
       "    </tr>\n",
       "    <tr>\n",
       "      <th>999988282</th>\n",
       "      <td>2000.0</td>\n",
       "      <td>2011</td>\n",
       "      <td>27</td>\n",
       "      <td>33</td>\n",
       "      <td>0</td>\n",
       "      <td>0</td>\n",
       "      <td>0</td>\n",
       "      <td>0</td>\n",
       "      <td>0</td>\n",
       "      <td>0</td>\n",
       "      <td>...</td>\n",
       "      <td>0</td>\n",
       "      <td>0</td>\n",
       "      <td>0</td>\n",
       "      <td>1</td>\n",
       "      <td>0</td>\n",
       "      <td>0</td>\n",
       "      <td>0</td>\n",
       "      <td>0.828981</td>\n",
       "      <td>7</td>\n",
       "      <td>19</td>\n",
       "    </tr>\n",
       "  </tbody>\n",
       "</table>\n",
       "<p>351804 rows × 85 columns</p>\n",
       "</div>"
      ],
      "text/plain": [
       "               goal  launch_year  duration_days  name_length  currency_AUD  \\\n",
       "ID                                                                           \n",
       "1000002330   1000.0         2015             58           31             0   \n",
       "1000003930  30000.0         2017             59           45             0   \n",
       "1000004038  45000.0         2013             44           14             0   \n",
       "1000007540   5000.0         2012             29           49             0   \n",
       "1000011046  19500.0         2015             55           58             0   \n",
       "...             ...          ...            ...          ...           ...   \n",
       "999976400   50000.0         2014             29           49             0   \n",
       "999977640    1500.0         2011             26            9             0   \n",
       "999986353   15000.0         2010             45           71             0   \n",
       "999987933   15000.0         2016             30           24             0   \n",
       "999988282    2000.0         2011             27           33             0   \n",
       "\n",
       "            currency_CAD  currency_CHF  currency_DKK  currency_EUR  \\\n",
       "ID                                                                   \n",
       "1000002330             0             0             0             0   \n",
       "1000003930             0             0             0             0   \n",
       "1000004038             0             0             0             0   \n",
       "1000007540             0             0             0             0   \n",
       "1000011046             0             0             0             0   \n",
       "...                  ...           ...           ...           ...   \n",
       "999976400              0             0             0             0   \n",
       "999977640              0             0             0             0   \n",
       "999986353              0             0             0             0   \n",
       "999987933              0             0             0             0   \n",
       "999988282              0             0             0             0   \n",
       "\n",
       "            currency_GBP  ...  main_category_Publishing  \\\n",
       "ID                        ...                             \n",
       "1000002330             1  ...                         1   \n",
       "1000003930             0  ...                         0   \n",
       "1000004038             0  ...                         0   \n",
       "1000007540             0  ...                         0   \n",
       "1000011046             0  ...                         0   \n",
       "...                  ...  ...                       ...   \n",
       "999976400              0  ...                         0   \n",
       "999977640              0  ...                         0   \n",
       "999986353              0  ...                         0   \n",
       "999987933              0  ...                         0   \n",
       "999988282              0  ...                         0   \n",
       "\n",
       "            main_category_Technology  main_category_Theater  region_america  \\\n",
       "ID                                                                            \n",
       "1000002330                         0                      0               0   \n",
       "1000003930                         0                      0               1   \n",
       "1000004038                         0                      0               1   \n",
       "1000007540                         0                      0               1   \n",
       "1000011046                         0                      0               1   \n",
       "...                              ...                    ...             ...   \n",
       "999976400                          0                      0               1   \n",
       "999977640                          0                      0               1   \n",
       "999986353                          0                      0               1   \n",
       "999987933                          1                      0               1   \n",
       "999988282                          0                      0               1   \n",
       "\n",
       "            region_asia  region_europe  region_oceania  country_popularity  \\\n",
       "ID                                                                           \n",
       "1000002330            0              1               0            0.143137   \n",
       "1000003930            0              0               0            0.828981   \n",
       "1000004038            0              0               0            0.828981   \n",
       "1000007540            0              0               0            0.828981   \n",
       "1000011046            0              0               0            0.828981   \n",
       "...                 ...            ...             ...                 ...   \n",
       "999976400             0              0               0            0.828981   \n",
       "999977640             0              0               0            0.828981   \n",
       "999986353             0              0               0            0.828981   \n",
       "999987933             0              0               0            0.828981   \n",
       "999988282             0              0               0            0.828981   \n",
       "\n",
       "            launch_month  launch_day  \n",
       "ID                                    \n",
       "1000002330             8          11  \n",
       "1000003930             9           2  \n",
       "1000004038             1          12  \n",
       "1000007540             3          17  \n",
       "1000011046             7           4  \n",
       "...                  ...         ...  \n",
       "999976400              9          17  \n",
       "999977640              6          22  \n",
       "999986353              7           1  \n",
       "999987933              1          13  \n",
       "999988282              7          19  \n",
       "\n",
       "[351804 rows x 85 columns]"
      ]
     },
     "execution_count": 110,
     "metadata": {},
     "output_type": "execute_result"
    }
   ],
   "source": [
    "gb"
   ]
  },
  {
   "cell_type": "code",
   "execution_count": 111,
   "metadata": {},
   "outputs": [],
   "source": [
    "X_train_gb, X_test_gb = train_test_split(gb, test_size=0.2, random_state=42)"
   ]
  },
  {
   "cell_type": "code",
   "execution_count": 115,
   "metadata": {},
   "outputs": [],
   "source": [
    "numeric_columns = ['goal', 'name_length', 'launch_year', 'duration_days', 'launch_month', 'launch_day', 'country_popularity']"
   ]
  },
  {
   "cell_type": "code",
   "execution_count": 117,
   "metadata": {},
   "outputs": [
    {
     "name": "stderr",
     "output_type": "stream",
     "text": [
      "D:\\conda\\lib\\site-packages\\pandas\\core\\indexing.py:966: SettingWithCopyWarning: \n",
      "A value is trying to be set on a copy of a slice from a DataFrame.\n",
      "Try using .loc[row_indexer,col_indexer] = value instead\n",
      "\n",
      "See the caveats in the documentation: https://pandas.pydata.org/pandas-docs/stable/user_guide/indexing.html#returning-a-view-versus-a-copy\n",
      "  self.obj[item] = s\n",
      "D:\\conda\\lib\\site-packages\\pandas\\core\\indexing.py:966: SettingWithCopyWarning: \n",
      "A value is trying to be set on a copy of a slice from a DataFrame.\n",
      "Try using .loc[row_indexer,col_indexer] = value instead\n",
      "\n",
      "See the caveats in the documentation: https://pandas.pydata.org/pandas-docs/stable/user_guide/indexing.html#returning-a-view-versus-a-copy\n",
      "  self.obj[item] = s\n"
     ]
    }
   ],
   "source": [
    "X_train_gb.loc[:, numeric_columns] = sc.fit_transform(X_train_gb[numeric_columns])\n",
    "X_test_gb.loc[:, numeric_columns] = sc.transform(X_test_gb[numeric_columns])"
   ]
  },
  {
   "cell_type": "markdown",
   "metadata": {},
   "source": [
    "### Q5.2 Train an xgboost, that's beat random forest"
   ]
  },
  {
   "cell_type": "code",
   "execution_count": 118,
   "metadata": {},
   "outputs": [
    {
     "data": {
      "text/plain": [
       "0.7158368982817186"
      ]
     },
     "execution_count": 118,
     "metadata": {},
     "output_type": "execute_result"
    }
   ],
   "source": [
    "from sklearn.ensemble import GradientBoostingClassifier\n",
    "gbt = GradientBoostingClassifier(n_estimators = 20, learning_rate = 0.8, max_depth = 5)\n",
    "\n",
    "gbt.fit(X_train_gb, y_train)\n",
    "y_pred = gbt.predict(X_test_gb)\n",
    "accuracy_score(y_test, y_pred)"
   ]
  },
  {
   "cell_type": "code",
   "execution_count": null,
   "metadata": {},
   "outputs": [],
   "source": []
  }
 ],
 "metadata": {
  "colab": {
   "name": "kickstarter.ipynb",
   "provenance": []
  },
  "kernelspec": {
   "display_name": "Python [conda env:root] *",
   "language": "python",
   "name": "conda-root-py"
  },
  "language_info": {
   "codemirror_mode": {
    "name": "ipython",
    "version": 3
   },
   "file_extension": ".py",
   "mimetype": "text/x-python",
   "name": "python",
   "nbconvert_exporter": "python",
   "pygments_lexer": "ipython3",
   "version": "3.8.3"
  }
 },
 "nbformat": 4,
 "nbformat_minor": 4
}
